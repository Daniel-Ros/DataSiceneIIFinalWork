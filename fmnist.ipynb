{
  "cells": [
    {
      "cell_type": "markdown",
      "source": [
        "# Fmnist\n",
        "\n",
        "<img src=\"img/fashion-mnist-sprite.png\" width=\"100%\">"
      ],
      "metadata": {}
    },
    {
      "cell_type": "markdown",
      "source": [
        "`Fashion-MNIST` is a dataset of [Zalando](https://jobs.zalando.com/tech/)'s article images—consisting of a training set of 60,000 examples and a test set of 10,000 examples. Each example is a 28x28 grayscale image, associated with a label from 10 classes.\n",
        "\n",
        "Each training and test example is assigned to one of the following labels:\n",
        "\n",
        "\n",
        "| Label | Description |\n",
        "| --- | --- |\n",
        "| 0 | T-shirt/top |\n",
        "| 1 | Trouser |\n",
        "| 2 | Pullover |\n",
        "| 3 | Dress |\n",
        "| 4 | Coat |\n",
        "| 5 | Sandal |\n",
        "| 6 | Shirt |\n",
        "| 7 | Sneaker |\n",
        "| 8 | Bag |\n",
        "| 9 | Ankle boot |"
      ],
      "metadata": {}
    },
    {
      "cell_type": "markdown",
      "source": [
        "## defualt imports\n"
      ],
      "metadata": {}
    },
    {
      "cell_type": "code",
      "source": [
        "import sys \n",
        "\n",
        "import sklearn\n",
        "import numpy as np \n",
        "import os\n",
        "import pandas as pd\n",
        "import time\n",
        "\n",
        "import warnings\n",
        "warnings.filterwarnings('ignore')\n",
        "%matplotlib inline\n",
        "from sklearn.datasets import fetch_openml\n",
        "import matplotlib as mpl\n",
        "import matplotlib.pyplot as plt\n",
        "\n",
        "from IPython.utils import io"
      ],
      "outputs": [],
      "execution_count": 1,
      "metadata": {
        "gather": {
          "logged": 1629039560082
        }
      }
    },
    {
      "cell_type": "markdown",
      "source": [
        "## Loading the data\n"
      ],
      "metadata": {}
    },
    {
      "cell_type": "code",
      "source": [
        "from sklearn.model_selection import train_test_split\n",
        "\n",
        "df_train = pd.read_csv(\"./data/mnist/fashion-mnist_train.csv\")\n",
        "df_test = pd.read_csv(\"./data/mnist/fashion-mnist_test.csv\")\n",
        "\n",
        "y_train_full = df_train.label\n",
        "y_test = df_test.label\n",
        "\n",
        "x_train_full = df_train.drop(\"label\", axis=1).to_numpy()\n",
        "x_test = df_test.drop(\"label\", axis=1).to_numpy()\n",
        "\n",
        "x_train,x_validate,y_train,y_validate = train_test_split(x_train_full,y_train_full,test_size = 0.05,random_state=42)\n"
      ],
      "outputs": [],
      "execution_count": 2,
      "metadata": {
        "gather": {
          "logged": 1629039568702
        }
      }
    },
    {
      "cell_type": "markdown",
      "source": [
        "## dim reduction\n",
        "We want to find the best possible number of componentes that will give us the maximum value for the minimum number of featuers"
      ],
      "metadata": {}
    },
    {
      "cell_type": "code",
      "source": [
        "from sklearn.decomposition import PCA\n",
        "\n",
        "pca = PCA()\n",
        "pca.fit(x_train)\n",
        "cumsum = np.cumsum(pca.explained_variance_ratio_[:200])\n",
        "\n",
        "plt.figure(figsize=(10,10))\n",
        "plt.plot(cumsum)\n",
        "plt.xlabel(\"number of components\")\n",
        "plt.ylabel(\"explaind variance\")\n",
        "plt.grid(True)\n",
        "plt.xticks(range(0,210,10))\n",
        "plt.yticks(np.arange(0.3,1.0,0.05))\n",
        "plt.show()\n"
      ],
      "outputs": [
        {
          "output_type": "display_data",
          "data": {
            "text/plain": "<Figure size 720x720 with 1 Axes>",
            "image/png": "[encoded data removed]"
          },
          "metadata": {
            "needs_background": "light"
          }
        }
      ],
      "execution_count": 3,
      "metadata": {
        "gather": {
          "logged": 1629039575791
        }
      }
    },
    {
      "cell_type": "markdown",
      "source": [
        "We can see we have an elbow between 10-40 components, so in that area we will get the most accuracy with the minimum number of featuers.\n",
        "\n",
        "We will go with 40 components for now.\n",
        "\n",
        "now,Lets see how much data our pca algorithm loses:"
      ],
      "metadata": {}
    },
    {
      "cell_type": "code",
      "source": [
        "def plot_pictures(instances, images_per_row=5, **options):\n",
        "    size = 28\n",
        "    images_per_row = min(len(instances), images_per_row)\n",
        "    images = [instance.reshape(size,size) for instance in instances]\n",
        "    n_rows = (len(instances) - 1) // images_per_row + 1\n",
        "    row_images = []\n",
        "    n_empty = n_rows * images_per_row - len(instances)\n",
        "    images.append(np.zeros((size, size * n_empty)))\n",
        "    for row in range(n_rows):\n",
        "        rimages = images[row * images_per_row : (row + 1) * images_per_row]\n",
        "        row_images.append(np.concatenate(rimages, axis=1))\n",
        "    image = np.concatenate(row_images, axis=0)\n",
        "    plt.imshow(image, cmap = mpl.cm.binary, **options)\n",
        "    plt.axis(\"off\")"
      ],
      "outputs": [],
      "execution_count": 4,
      "metadata": {
        "gather": {
          "logged": 1629039576071
        }
      }
    },
    {
      "cell_type": "code",
      "source": [
        "pca = PCA(n_components=40)\n",
        "x_reducerd = pca.fit_transform(x_train)\n",
        "x_recovered = pca.inverse_transform(x_reducerd)\n",
        "\n",
        "with io.capture_output() as captured:\n",
        "    plt.subplot(121)\n",
        "    plot_pictures(x_train[::2100])\n",
        "    plt.title(\"Original\", fontsize=16)\n",
        "    plt.subplot(122)\n",
        "    plot_pictures(x_recovered[::2100])\n",
        "    plt.title(\"Compressed\", fontsize=16)"
      ],
      "outputs": [
        {
          "output_type": "display_data",
          "data": {
            "text/plain": "<Figure size 432x288 with 2 Axes>",
            "image/png": "[encoded data removed]"
          },
          "metadata": {
            "needs_background": "light"
          }
        }
      ],
      "execution_count": 5,
      "metadata": {
        "gather": {
          "logged": 1629039579882
        }
      }
    },
    {
      "cell_type": "markdown",
      "source": [
        "We can see that the image is very blurry but most of it is still understndable. "
      ],
      "metadata": {}
    },
    {
      "cell_type": "markdown",
      "source": [
        "### Pipeline\n",
        "We create a standart pipeline, so every data we will get will be preprocceses according to the traing data."
      ],
      "metadata": {}
    },
    {
      "cell_type": "code",
      "source": [
        "from sklearn.pipeline import Pipeline\n",
        "from sklearn.preprocessing import StandardScaler\n",
        "from sklearn.cluster import KMeans\n",
        "from sklearn.model_selection import cross_val_score\n",
        "\n",
        "\n",
        "preprocess = Pipeline([\n",
        "    ('scaler',StandardScaler(with_std=False)),\n",
        "    ('pca',PCA(n_components=40)),\n",
        "])\n",
        "\n",
        "x_reduced = preprocess.fit_transform(x_train)\n",
        "x_validate_reduced = preprocess.transform(x_validate)"
      ],
      "outputs": [],
      "execution_count": 6,
      "metadata": {
        "gather": {
          "logged": 1629039584516
        }
      }
    },
    {
      "cell_type": "markdown",
      "source": [
        "## Using ML algorithms"
      ],
      "metadata": {}
    },
    {
      "cell_type": "markdown",
      "source": [
        "We are going to run some ML algorithms and comapre them."
      ],
      "metadata": {}
    },
    {
      "cell_type": "code",
      "source": [
        "x_axis = [\"knn\",\"Linear \\n Regression\",\"Random \\n Forest\",\"dummy\",\"Gaussian NB\",\"adaboost\",\"xgboost\"]\n",
        "y_axis = []"
      ],
      "outputs": [],
      "execution_count": 7,
      "metadata": {
        "gather": {
          "logged": 1629039584855
        }
      }
    },
    {
      "cell_type": "markdown",
      "source": [
        "### Knn"
      ],
      "metadata": {}
    },
    {
      "cell_type": "code",
      "source": [
        "from sklearn.neighbors import KNeighborsClassifier\n",
        "\n",
        "knn_clf =  KNeighborsClassifier(n_neighbors=5,n_jobs=-1)\n",
        "\n",
        "# knn_clf.fit(x_reduced,y_train)\n",
        "# score = knn_clf.score(x_validate_reduced,y_validate)\n",
        "# y_axis.append(score)\n",
        "# print(\"knn:{}\".format(score))"
      ],
      "outputs": [],
      "execution_count": 43,
      "metadata": {
        "gather": {
          "logged": 1629053814710
        }
      }
    },
    {
      "cell_type": "code",
      "source": [
        "from sklearn.linear_model import LinearRegression\n",
        "\n",
        "lr_clf =  LinearRegression()\n",
        "\n",
        "lr_clf.fit(x_reduced,y_train)\n",
        "score = lr_clf.score(x_validate_reduced,y_validate)\n",
        "y_axis.append(score)\n",
        "print(\"lr:{}\".format(score))"
      ],
      "outputs": [
        {
          "output_type": "stream",
          "name": "stdout",
          "text": [
            "lr:0.7567531603815557\n"
          ]
        }
      ],
      "execution_count": 9,
      "metadata": {
        "gather": {
          "logged": 1629039586270
        }
      }
    },
    {
      "cell_type": "markdown",
      "source": [
        "### random forest"
      ],
      "metadata": {}
    },
    {
      "cell_type": "code",
      "source": [
        "from sklearn.ensemble import RandomForestClassifier\n",
        "\n",
        "rf_clf = RandomForestClassifier(n_estimators=100,n_jobs=-1)\n",
        "\n",
        "# rf_clf.fit(x_reduced,y_train)\n",
        "# score = rf_clf.score(x_validate_reduced,y_validate)\n",
        "# y_axis.append(score)\n",
        "# print(\"random forest :{}\".format(score))\n"
      ],
      "outputs": [],
      "execution_count": 44,
      "metadata": {
        "gather": {
          "logged": 1629053817802
        }
      }
    },
    {
      "cell_type": "markdown",
      "source": [
        "### dummy classifier"
      ],
      "metadata": {}
    },
    {
      "cell_type": "code",
      "source": [
        "from sklearn.dummy import DummyClassifier\n",
        "\n",
        "dc_clf = DummyClassifier(strategy=\"most_frequent\")\n",
        "\n",
        "dc_clf.fit(x_reduced,y_train)\n",
        "score = dc_clf.score(x_validate_reduced,y_validate)\n",
        "y_axis.append(score)\n",
        "print(\"dummy classifier:{}\".format(score))"
      ],
      "outputs": [
        {
          "output_type": "stream",
          "name": "stdout",
          "text": [
            "dummy classifier:0.093\n"
          ]
        }
      ],
      "execution_count": 11,
      "metadata": {
        "gather": {
          "logged": 1629039599928
        }
      }
    },
    {
      "cell_type": "markdown",
      "source": [
        "### Gaussian nayive bayas"
      ],
      "metadata": {}
    },
    {
      "cell_type": "code",
      "source": [
        "from sklearn.naive_bayes import GaussianNB\n",
        "\n",
        "\n",
        "gnb_clf =  GaussianNB()\n",
        "\n",
        "gnb_clf.fit(x_reduced,y_train)\n",
        "score = gnb_clf.score(x_validate_reduced,y_validate)\n",
        "y_axis.append(score)\n",
        "print(\"gaussian nayive bayas:{}\".format(score))"
      ],
      "outputs": [
        {
          "output_type": "stream",
          "name": "stdout",
          "text": [
            "gaussian nayive bayas:0.784\n"
          ]
        }
      ],
      "execution_count": 12,
      "metadata": {
        "gather": {
          "logged": 1629039600227
        }
      }
    },
    {
      "cell_type": "markdown",
      "source": [
        "## using move advanced algorithms\n",
        "\n",
        "### adaboost"
      ],
      "metadata": {}
    },
    {
      "cell_type": "code",
      "source": [
        "from sklearn.ensemble import AdaBoostClassifier\n",
        "from sklearn.tree import DecisionTreeClassifier\n",
        "ada_clf =  AdaBoostClassifier(DecisionTreeClassifier(max_depth=3),n_estimators=200,learning_rate=0.2)\n",
        "\n",
        "ada_clf.fit(x_reduced,y_train)\n",
        "score = ada_clf.score(x_validate_reduced,y_validate)\n",
        "y_axis.append(score)\n",
        "print(\"adaboost:{}\".format(score))"
      ],
      "outputs": [
        {
          "output_type": "stream",
          "name": "stdout",
          "text": [
            "adaboost:0.5813333333333334\n"
          ]
        }
      ],
      "execution_count": 13,
      "metadata": {
        "gather": {
          "logged": 1629039839573
        }
      }
    },
    {
      "cell_type": "markdown",
      "source": [
        "### xgboost"
      ],
      "metadata": {}
    },
    {
      "cell_type": "code",
      "source": [
        "import xgboost as xgb\n",
        "\n",
        "xgb_clf = xgb.XGBClassifier(eta=0.3,max_depth=10, eval_metric='mlogloss',n_jobs=-1)\n",
        "#xgb_clf.fit(x_reduced,y_train)\n",
        "#score = xgb_clf.score(x_validate_reduced,y_validate)\n",
        "#y_axis.append(score)\n",
        "#print(\"XGBoost:{}\".format(score))"
      ],
      "outputs": [],
      "execution_count": 45,
      "metadata": {
        "gather": {
          "logged": 1629053821470
        }
      }
    },
    {
      "cell_type": "code",
      "source": [
        "print(y_axis)\n",
        "plt.figure(figsize=(25,10))\n",
        "plt.plot(x_axis,y_axis)"
      ],
      "outputs": [
        {
          "output_type": "stream",
          "name": "stdout",
          "text": [
            "[0.862, 0.7567531603815557, 0.8693333333333333, 0.093, 0.784, 0.5813333333333334, 0.8733333333333333]\n"
          ]
        },
        {
          "output_type": "execute_result",
          "execution_count": 15,
          "data": {
            "text/plain": "[<matplotlib.lines.Line2D at 0x7f788a392518>]"
          },
          "metadata": {}
        },
        {
          "output_type": "display_data",
          "data": {
            "text/plain": "<Figure size 1800x720 with 1 Axes>",
            "image/png": "[encoded data removed]"
          },
          "metadata": {
            "needs_background": "light"
          }
        }
      ],
      "execution_count": 15,
      "metadata": {
        "gather": {
          "logged": 1629040447348
        }
      }
    },
    {
      "cell_type": "markdown",
      "source": [
        "We can see that not all the algorithms gives good resualt. So we can chose one of the better ones to conitnue.\n",
        "\n",
        "But instead of taking just one, We will take the top 3 and try to combine them together.\n"
      ],
      "metadata": {}
    },
    {
      "cell_type": "markdown",
      "source": [
        "\n",
        "## Combining ML algorithms\n"
      ],
      "metadata": {}
    },
    {
      "cell_type": "markdown",
      "source": [
        "\n",
        "### VotingClassifier"
      ],
      "metadata": {}
    },
    {
      "cell_type": "code",
      "source": [
        "from sklearn.ensemble import VotingClassifier\n",
        "\n",
        "voting_clf = VotingClassifier(\n",
        "    estimators=[('knn',knn_clf),\n",
        "                ('rf',rf_clf),\n",
        "                ('xgb',xgb_clf)],\n",
        "            voting='soft',\n",
        "            weights=[1,1,4],\n",
        ")\n",
        "#voting_clf.fit(x_reduced, y_train)\n",
        "#voting_clf.score(x_validate_reduced,y_validate)"
      ],
      "outputs": [],
      "execution_count": 46,
      "metadata": {
        "gather": {
          "logged": 1629053826502
        }
      }
    },
    {
      "cell_type": "markdown",
      "source": [
        "### stacking classifier"
      ],
      "metadata": {}
    },
    {
      "cell_type": "code",
      "source": [
        "from sklearn.ensemble import StackingClassifier\n",
        "\n",
        "stacking_clf = StackingClassifier(\n",
        "    estimators=[('knn',knn_clf),\n",
        "                ('rf',rf_clf),\n",
        "                ('xgb',xgb_clf),],\n",
        "                final_estimator=voting_clf)\n",
        "#stacking_clf.fit(x_reduced, y_train)\n",
        "#stacking_clf.score(x_validate_reduced,y_validate)"
      ],
      "outputs": [],
      "execution_count": 80,
      "metadata": {
        "gather": {
          "logged": 1629110873591
        }
      }
    },
    {
      "cell_type": "code",
      "source": [
        "from sklearn.ensemble import BaggingClassifier\n",
        "\n",
        "bag_clf = BaggingClassifier(xgb_clf,verbose=1000)\n",
        "bag_clf.fit(x_reduced,y_train)\n",
        "bag_clf.score(x_validate_reduced,y_validate)"
      ],
      "outputs": [
        {
          "output_type": "stream",
          "name": "stdout",
          "text": [
            "[Parallel(n_jobs=1)]: Using backend SequentialBackend with 1 concurrent workers.\n",
            "Building estimator 1 of 10 for this parallel run (total 10)...\n",
            "Building estimator 2 of 10 for this parallel run (total 10)...\n",
            "Building estimator 3 of 10 for this parallel run (total 10)...\n",
            "Building estimator 4 of 10 for this parallel run (total 10)...\n",
            "Building estimator 5 of 10 for this parallel run (total 10)...\n",
            "Building estimator 6 of 10 for this parallel run (total 10)...\n",
            "Building estimator 7 of 10 for this parallel run (total 10)...\n",
            "Building estimator 8 of 10 for this parallel run (total 10)...\n",
            "Building estimator 9 of 10 for this parallel run (total 10)...\n",
            "Building estimator 10 of 10 for this parallel run (total 10)...\n",
            "[Parallel(n_jobs=1)]: Done   1 out of   1 | elapsed: 97.5min remaining:    0.0s\n",
            "[Parallel(n_jobs=1)]: Done   1 out of   1 | elapsed: 97.5min finished\n",
            "[Parallel(n_jobs=1)]: Using backend SequentialBackend with 1 concurrent workers.\n",
            "[Parallel(n_jobs=1)]: Done   1 out of   1 | elapsed:    5.1s remaining:    0.0s\n",
            "[Parallel(n_jobs=1)]: Done   1 out of   1 | elapsed:    5.1s finished\n"
          ]
        },
        {
          "output_type": "execute_result",
          "execution_count": 18,
          "data": {
            "text/plain": "0.878"
          },
          "metadata": {}
        }
      ],
      "execution_count": 18,
      "metadata": {
        "gather": {
          "logged": 1629050122384
        }
      }
    },
    {
      "cell_type": "markdown",
      "source": [
        "## Fine tuning\n"
      ],
      "metadata": {}
    },
    {
      "cell_type": "markdown",
      "source": [
        "We can see that the stacking classifier with KNN, Random forest, and Xgb and out voting classifier got the best resualt, now lets try ti find the best hyper parameters for out model:"
      ],
      "metadata": {}
    },
    {
      "cell_type": "code",
      "source": [
        "params = {\n",
        "    \"knn__n_neighbors\" : [5,10,20,30],\n",
        "    \"rf__n_estimators\" : [5,50,100,150],\n",
        "    \"xgb__eta\" : [0.01,0.1,0.2],\n",
        "}"
      ],
      "outputs": [],
      "execution_count": 77,
      "metadata": {
        "gather": {
          "logged": 1629109763287
        }
      }
    },
    {
      "cell_type": "code",
      "source": [
        "from sklearn.model_selection import GridSearchCV\n",
        "\n",
        "gs = GridSearchCV(stacking_clf,params,cv=3,verbose=1000,n_jobs=-1)"
      ],
      "outputs": [],
      "execution_count": 83,
      "metadata": {
        "gather": {
          "logged": 1629115449272
        }
      }
    },
    {
      "cell_type": "code",
      "source": [
        "gs.fit(x_reduced,y_train)"
      ],
      "outputs": [
        {
          "output_type": "stream",
          "name": "stdout",
          "text": [
            "Fitting 3 folds for each of 48 candidates, totalling 144 fits\n",
            "[Parallel(n_jobs=-1)]: Using backend LokyBackend with 4 concurrent workers.\n",
            "Memmapping (shape=(57000, 40), dtype=float64) to new file /dev/shm/joblib_memmapping_folder_21092_4725396717/21092-140153391640704-c9a8d23ef754485f89e5f29ea6de7703.pkl\n",
            "Pickling array (shape=(57000,), dtype=int64).\n",
            "Pickling array (shape=(57000,), dtype=int64).\n",
            "Pickling array (shape=(57000,), dtype=int64).\n",
            "Pickling array (shape=(38000,), dtype=int64).\n",
            "Pickling array (shape=(19000,), dtype=int64).\n",
            "Memmapping (shape=(57000, 40), dtype=float64) to old file /dev/shm/joblib_memmapping_folder_21092_4725396717/21092-140153391640704-c9a8d23ef754485f89e5f29ea6de7703.pkl\n",
            "Pickling array (shape=(57000,), dtype=int64).\n",
            "Pickling array (shape=(57000,), dtype=int64).\n",
            "Pickling array (shape=(57000,), dtype=int64).\n",
            "Pickling array (shape=(38000,), dtype=int64).\n",
            "Pickling array (shape=(19000,), dtype=int64).\n",
            "Memmapping (shape=(57000, 40), dtype=float64) to old file /dev/shm/joblib_memmapping_folder_21092_4725396717/21092-140153391640704-c9a8d23ef754485f89e5f29ea6de7703.pkl\n",
            "Pickling array (shape=(57000,), dtype=int64).\n",
            "Pickling array (shape=(57000,), dtype=int64).\n",
            "Pickling array (shape=(57000,), dtype=int64).\n",
            "Pickling array (shape=(38000,), dtype=int64).\n",
            "Pickling array (shape=(19000,), dtype=int64).\n",
            "Memmapping (shape=(57000, 40), dtype=float64) to old file /dev/shm/joblib_memmapping_folder_21092_4725396717/21092-140153391640704-c9a8d23ef754485f89e5f29ea6de7703.pkl\n",
            "Pickling array (shape=(57000,), dtype=int64).\n",
            "Pickling array (shape=(57000,), dtype=int64).\n",
            "Pickling array (shape=(57000,), dtype=int64).\n",
            "Pickling array (shape=(38000,), dtype=int64).\n",
            "Pickling array (shape=(19000,), dtype=int64).\n",
            "Memmapping (shape=(57000, 40), dtype=float64) to old file /dev/shm/joblib_memmapping_folder_21092_4725396717/21092-140153391640704-c9a8d23ef754485f89e5f29ea6de7703.pkl\n",
            "Pickling array (shape=(57000,), dtype=int64).\n",
            "Pickling array (shape=(57000,), dtype=int64).\n",
            "Pickling array (shape=(57000,), dtype=int64).\n",
            "Pickling array (shape=(38000,), dtype=int64).\n",
            "Pickling array (shape=(19000,), dtype=int64).\n",
            "[Parallel(n_jobs=-1)]: Done   1 tasks      | elapsed: 35.2min\n",
            "Memmapping (shape=(57000, 40), dtype=float64) to old file /dev/shm/joblib_memmapping_folder_21092_4725396717/21092-140153391640704-c9a8d23ef754485f89e5f29ea6de7703.pkl\n",
            "Pickling array (shape=(57000,), dtype=int64).\n",
            "Pickling array (shape=(57000,), dtype=int64).\n",
            "Pickling array (shape=(57000,), dtype=int64).\n",
            "Pickling array (shape=(38000,), dtype=int64).\n",
            "Pickling array (shape=(19000,), dtype=int64).\n",
            "[Parallel(n_jobs=-1)]: Done   2 tasks      | elapsed: 35.5min\n",
            "Memmapping (shape=(57000, 40), dtype=float64) to old file /dev/shm/joblib_memmapping_folder_21092_4725396717/21092-140153391640704-c9a8d23ef754485f89e5f29ea6de7703.pkl\n",
            "Pickling array (shape=(57000,), dtype=int64).\n",
            "Pickling array (shape=(57000,), dtype=int64).\n",
            "Pickling array (shape=(57000,), dtype=int64).\n",
            "Pickling array (shape=(38000,), dtype=int64).\n",
            "Pickling array (shape=(19000,), dtype=int64).\n",
            "[Parallel(n_jobs=-1)]: Done   3 tasks      | elapsed: 35.7min\n",
            "Memmapping (shape=(57000, 40), dtype=float64) to old file /dev/shm/joblib_memmapping_folder_21092_4725396717/21092-140153391640704-c9a8d23ef754485f89e5f29ea6de7703.pkl\n",
            "Pickling array (shape=(57000,), dtype=int64).\n",
            "Pickling array (shape=(57000,), dtype=int64).\n",
            "Pickling array (shape=(57000,), dtype=int64).\n",
            "Pickling array (shape=(38000,), dtype=int64).\n",
            "Pickling array (shape=(19000,), dtype=int64).\n",
            "[Parallel(n_jobs=-1)]: Done   4 tasks      | elapsed: 35.7min\n",
            "Memmapping (shape=(57000, 40), dtype=float64) to old file /dev/shm/joblib_memmapping_folder_21092_4725396717/21092-140153391640704-c9a8d23ef754485f89e5f29ea6de7703.pkl\n",
            "Pickling array (shape=(57000,), dtype=int64).\n",
            "Pickling array (shape=(57000,), dtype=int64).\n",
            "Pickling array (shape=(57000,), dtype=int64).\n",
            "Pickling array (shape=(38000,), dtype=int64).\n",
            "Pickling array (shape=(19000,), dtype=int64).\n",
            "[Parallel(n_jobs=-1)]: Done   5 tasks      | elapsed: 71.3min\n",
            "Memmapping (shape=(57000, 40), dtype=float64) to old file /dev/shm/joblib_memmapping_folder_21092_4725396717/21092-140153391640704-c9a8d23ef754485f89e5f29ea6de7703.pkl\n",
            "Pickling array (shape=(57000,), dtype=int64).\n",
            "Pickling array (shape=(57000,), dtype=int64).\n",
            "Pickling array (shape=(57000,), dtype=int64).\n",
            "Pickling array (shape=(38000,), dtype=int64).\n",
            "Pickling array (shape=(19000,), dtype=int64).\n",
            "[Parallel(n_jobs=-1)]: Done   6 tasks      | elapsed: 71.8min\n",
            "Memmapping (shape=(57000, 40), dtype=float64) to old file /dev/shm/joblib_memmapping_folder_21092_4725396717/21092-140153391640704-c9a8d23ef754485f89e5f29ea6de7703.pkl\n",
            "Pickling array (shape=(57000,), dtype=int64).\n",
            "Pickling array (shape=(57000,), dtype=int64).\n",
            "Pickling array (shape=(57000,), dtype=int64).\n",
            "Pickling array (shape=(38000,), dtype=int64).\n",
            "Pickling array (shape=(19000,), dtype=int64).\n",
            "[Parallel(n_jobs=-1)]: Done   7 tasks      | elapsed: 71.9min\n",
            "Memmapping (shape=(57000, 40), dtype=float64) to old file /dev/shm/joblib_memmapping_folder_21092_4725396717/21092-140153391640704-c9a8d23ef754485f89e5f29ea6de7703.pkl\n",
            "Pickling array (shape=(57000,), dtype=int64).\n",
            "Pickling array (shape=(57000,), dtype=int64).\n",
            "Pickling array (shape=(57000,), dtype=int64).\n",
            "Pickling array (shape=(38000,), dtype=int64).\n",
            "Pickling array (shape=(19000,), dtype=int64).\n",
            "[Parallel(n_jobs=-1)]: Done   8 tasks      | elapsed: 72.1min\n",
            "Memmapping (shape=(57000, 40), dtype=float64) to old file /dev/shm/joblib_memmapping_folder_21092_4725396717/21092-140153391640704-c9a8d23ef754485f89e5f29ea6de7703.pkl\n",
            "Pickling array (shape=(57000,), dtype=int64).\n",
            "Pickling array (shape=(57000,), dtype=int64).\n",
            "Pickling array (shape=(57000,), dtype=int64).\n",
            "Pickling array (shape=(38000,), dtype=int64).\n",
            "Pickling array (shape=(19000,), dtype=int64).\n",
            "[Parallel(n_jobs=-1)]: Done   9 tasks      | elapsed: 107.9min\n",
            "Memmapping (shape=(57000, 40), dtype=float64) to old file /dev/shm/joblib_memmapping_folder_21092_4725396717/21092-140153391640704-c9a8d23ef754485f89e5f29ea6de7703.pkl\n",
            "Pickling array (shape=(57000,), dtype=int64).\n",
            "Pickling array (shape=(57000,), dtype=int64).\n",
            "Pickling array (shape=(57000,), dtype=int64).\n",
            "Pickling array (shape=(38000,), dtype=int64).\n",
            "Pickling array (shape=(19000,), dtype=int64).\n",
            "[Parallel(n_jobs=-1)]: Done  10 tasks      | elapsed: 108.6min\n",
            "Memmapping (shape=(57000, 40), dtype=float64) to old file /dev/shm/joblib_memmapping_folder_21092_4725396717/21092-140153391640704-c9a8d23ef754485f89e5f29ea6de7703.pkl\n",
            "Pickling array (shape=(57000,), dtype=int64).\n",
            "Pickling array (shape=(57000,), dtype=int64).\n",
            "Pickling array (shape=(57000,), dtype=int64).\n",
            "Pickling array (shape=(38000,), dtype=int64).\n",
            "Pickling array (shape=(19000,), dtype=int64).\n",
            "[Parallel(n_jobs=-1)]: Done  11 tasks      | elapsed: 108.8min\n",
            "Memmapping (shape=(57000, 40), dtype=float64) to old file /dev/shm/joblib_memmapping_folder_21092_4725396717/21092-140153391640704-c9a8d23ef754485f89e5f29ea6de7703.pkl\n",
            "Pickling array (shape=(57000,), dtype=int64).\n",
            "Pickling array (shape=(57000,), dtype=int64).\n",
            "Pickling array (shape=(57000,), dtype=int64).\n",
            "Pickling array (shape=(38000,), dtype=int64).\n",
            "Pickling array (shape=(19000,), dtype=int64).\n",
            "[Parallel(n_jobs=-1)]: Done  12 tasks      | elapsed: 109.1min\n",
            "Memmapping (shape=(57000, 40), dtype=float64) to old file /dev/shm/joblib_memmapping_folder_21092_4725396717/21092-140153391640704-c9a8d23ef754485f89e5f29ea6de7703.pkl\n",
            "Pickling array (shape=(57000,), dtype=int64).\n",
            "Pickling array (shape=(57000,), dtype=int64).\n",
            "Pickling array (shape=(57000,), dtype=int64).\n",
            "Pickling array (shape=(38000,), dtype=int64).\n",
            "Pickling array (shape=(19000,), dtype=int64).\n",
            "[Parallel(n_jobs=-1)]: Done  13 tasks      | elapsed: 147.4min\n",
            "Memmapping (shape=(57000, 40), dtype=float64) to old file /dev/shm/joblib_memmapping_folder_21092_4725396717/21092-140153391640704-c9a8d23ef754485f89e5f29ea6de7703.pkl\n",
            "Pickling array (shape=(57000,), dtype=int64).\n",
            "Pickling array (shape=(57000,), dtype=int64).\n",
            "Pickling array (shape=(57000,), dtype=int64).\n",
            "Pickling array (shape=(38000,), dtype=int64).\n",
            "Pickling array (shape=(19000,), dtype=int64).\n",
            "[Parallel(n_jobs=-1)]: Done  14 tasks      | elapsed: 148.1min\n",
            "Memmapping (shape=(57000, 40), dtype=float64) to old file /dev/shm/joblib_memmapping_folder_21092_4725396717/21092-140153391640704-c9a8d23ef754485f89e5f29ea6de7703.pkl\n",
            "Pickling array (shape=(57000,), dtype=int64).\n",
            "Pickling array (shape=(57000,), dtype=int64).\n",
            "Pickling array (shape=(57000,), dtype=int64).\n",
            "Pickling array (shape=(38000,), dtype=int64).\n",
            "Pickling array (shape=(19000,), dtype=int64).\n",
            "[Parallel(n_jobs=-1)]: Done  15 tasks      | elapsed: 148.4min\n",
            "Memmapping (shape=(57000, 40), dtype=float64) to old file /dev/shm/joblib_memmapping_folder_21092_4725396717/21092-140153391640704-c9a8d23ef754485f89e5f29ea6de7703.pkl\n",
            "Pickling array (shape=(57000,), dtype=int64).\n",
            "Pickling array (shape=(57000,), dtype=int64).\n",
            "Pickling array (shape=(57000,), dtype=int64).\n",
            "Pickling array (shape=(38000,), dtype=int64).\n",
            "Pickling array (shape=(19000,), dtype=int64).\n",
            "[Parallel(n_jobs=-1)]: Done  16 tasks      | elapsed: 148.5min\n",
            "Memmapping (shape=(57000, 40), dtype=float64) to old file /dev/shm/joblib_memmapping_folder_21092_4725396717/21092-140153391640704-c9a8d23ef754485f89e5f29ea6de7703.pkl\n",
            "Pickling array (shape=(57000,), dtype=int64).\n",
            "Pickling array (shape=(57000,), dtype=int64).\n",
            "Pickling array (shape=(57000,), dtype=int64).\n",
            "Pickling array (shape=(38000,), dtype=int64).\n",
            "Pickling array (shape=(19000,), dtype=int64).\n",
            "[Parallel(n_jobs=-1)]: Done  17 tasks      | elapsed: 185.6min\n",
            "Memmapping (shape=(57000, 40), dtype=float64) to old file /dev/shm/joblib_memmapping_folder_21092_4725396717/21092-140153391640704-c9a8d23ef754485f89e5f29ea6de7703.pkl\n",
            "Pickling array (shape=(57000,), dtype=int64).\n",
            "Pickling array (shape=(57000,), dtype=int64).\n",
            "Pickling array (shape=(57000,), dtype=int64).\n",
            "Pickling array (shape=(38000,), dtype=int64).\n",
            "Pickling array (shape=(19000,), dtype=int64).\n",
            "[Parallel(n_jobs=-1)]: Done  18 tasks      | elapsed: 186.2min\n",
            "Memmapping (shape=(57000, 40), dtype=float64) to old file /dev/shm/joblib_memmapping_folder_21092_4725396717/21092-140153391640704-c9a8d23ef754485f89e5f29ea6de7703.pkl\n",
            "Pickling array (shape=(57000,), dtype=int64).\n",
            "Pickling array (shape=(57000,), dtype=int64).\n",
            "Pickling array (shape=(57000,), dtype=int64).\n",
            "Pickling array (shape=(38000,), dtype=int64).\n",
            "Pickling array (shape=(19000,), dtype=int64).\n",
            "[Parallel(n_jobs=-1)]: Done  19 tasks      | elapsed: 186.8min\n",
            "Memmapping (shape=(57000, 40), dtype=float64) to old file /dev/shm/joblib_memmapping_folder_21092_4725396717/21092-140153391640704-c9a8d23ef754485f89e5f29ea6de7703.pkl\n",
            "Pickling array (shape=(57000,), dtype=int64).\n",
            "Pickling array (shape=(57000,), dtype=int64).\n",
            "Pickling array (shape=(57000,), dtype=int64).\n",
            "Pickling array (shape=(38000,), dtype=int64).\n",
            "Pickling array (shape=(19000,), dtype=int64).\n",
            "[Parallel(n_jobs=-1)]: Done  20 tasks      | elapsed: 186.9min\n",
            "Memmapping (shape=(57000, 40), dtype=float64) to old file /dev/shm/joblib_memmapping_folder_21092_4725396717/21092-140153391640704-c9a8d23ef754485f89e5f29ea6de7703.pkl\n",
            "Pickling array (shape=(57000,), dtype=int64).\n",
            "Pickling array (shape=(57000,), dtype=int64).\n",
            "Pickling array (shape=(57000,), dtype=int64).\n",
            "Pickling array (shape=(38000,), dtype=int64).\n",
            "Pickling array (shape=(19000,), dtype=int64).\n",
            "[Parallel(n_jobs=-1)]: Done  21 tasks      | elapsed: 222.5min\n",
            "Memmapping (shape=(57000, 40), dtype=float64) to old file /dev/shm/joblib_memmapping_folder_21092_4725396717/21092-140153391640704-c9a8d23ef754485f89e5f29ea6de7703.pkl\n",
            "Pickling array (shape=(57000,), dtype=int64).\n",
            "Pickling array (shape=(57000,), dtype=int64).\n",
            "Pickling array (shape=(57000,), dtype=int64).\n",
            "Pickling array (shape=(38000,), dtype=int64).\n",
            "Pickling array (shape=(19000,), dtype=int64).\n",
            "[Parallel(n_jobs=-1)]: Done  22 tasks      | elapsed: 223.1min\n",
            "Memmapping (shape=(57000, 40), dtype=float64) to old file /dev/shm/joblib_memmapping_folder_21092_4725396717/21092-140153391640704-c9a8d23ef754485f89e5f29ea6de7703.pkl\n",
            "Pickling array (shape=(57000,), dtype=int64).\n",
            "Pickling array (shape=(57000,), dtype=int64).\n",
            "Pickling array (shape=(57000,), dtype=int64).\n",
            "Pickling array (shape=(38000,), dtype=int64).\n",
            "Pickling array (shape=(19000,), dtype=int64).\n",
            "[Parallel(n_jobs=-1)]: Done  23 tasks      | elapsed: 223.6min\n",
            "Memmapping (shape=(57000, 40), dtype=float64) to old file /dev/shm/joblib_memmapping_folder_21092_4725396717/21092-140153391640704-c9a8d23ef754485f89e5f29ea6de7703.pkl\n",
            "Pickling array (shape=(57000,), dtype=int64).\n",
            "Pickling array (shape=(57000,), dtype=int64).\n",
            "Pickling array (shape=(57000,), dtype=int64).\n",
            "Pickling array (shape=(38000,), dtype=int64).\n",
            "Pickling array (shape=(19000,), dtype=int64).\n",
            "[Parallel(n_jobs=-1)]: Done  24 tasks      | elapsed: 223.9min\n",
            "Memmapping (shape=(57000, 40), dtype=float64) to old file /dev/shm/joblib_memmapping_folder_21092_4725396717/21092-140153391640704-c9a8d23ef754485f89e5f29ea6de7703.pkl\n",
            "Pickling array (shape=(57000,), dtype=int64).\n",
            "Pickling array (shape=(57000,), dtype=int64).\n",
            "Pickling array (shape=(57000,), dtype=int64).\n",
            "Pickling array (shape=(38000,), dtype=int64).\n",
            "Pickling array (shape=(19000,), dtype=int64).\n",
            "[Parallel(n_jobs=-1)]: Done  25 tasks      | elapsed: 261.6min\n",
            "Memmapping (shape=(57000, 40), dtype=float64) to old file /dev/shm/joblib_memmapping_folder_21092_4725396717/21092-140153391640704-c9a8d23ef754485f89e5f29ea6de7703.pkl\n",
            "Pickling array (shape=(57000,), dtype=int64).\n",
            "Pickling array (shape=(57000,), dtype=int64).\n",
            "Pickling array (shape=(57000,), dtype=int64).\n",
            "Pickling array (shape=(38000,), dtype=int64).\n",
            "Pickling array (shape=(19000,), dtype=int64).\n",
            "[Parallel(n_jobs=-1)]: Done  26 tasks      | elapsed: 262.4min\n",
            "Memmapping (shape=(57000, 40), dtype=float64) to old file /dev/shm/joblib_memmapping_folder_21092_4725396717/21092-140153391640704-c9a8d23ef754485f89e5f29ea6de7703.pkl\n",
            "Pickling array (shape=(57000,), dtype=int64).\n",
            "Pickling array (shape=(57000,), dtype=int64).\n",
            "Pickling array (shape=(57000,), dtype=int64).\n",
            "Pickling array (shape=(38000,), dtype=int64).\n",
            "Pickling array (shape=(19000,), dtype=int64).\n",
            "[Parallel(n_jobs=-1)]: Done  27 tasks      | elapsed: 263.1min\n",
            "Memmapping (shape=(57000, 40), dtype=float64) to old file /dev/shm/joblib_memmapping_folder_21092_4725396717/21092-140153391640704-c9a8d23ef754485f89e5f29ea6de7703.pkl\n",
            "Pickling array (shape=(57000,), dtype=int64).\n",
            "Pickling array (shape=(57000,), dtype=int64).\n",
            "Pickling array (shape=(57000,), dtype=int64).\n",
            "Pickling array (shape=(38000,), dtype=int64).\n",
            "Pickling array (shape=(19000,), dtype=int64).\n",
            "[Parallel(n_jobs=-1)]: Done  28 tasks      | elapsed: 263.3min\n",
            "Memmapping (shape=(57000, 40), dtype=float64) to old file /dev/shm/joblib_memmapping_folder_21092_4725396717/21092-140153391640704-c9a8d23ef754485f89e5f29ea6de7703.pkl\n",
            "Pickling array (shape=(57000,), dtype=int64).\n",
            "Pickling array (shape=(57000,), dtype=int64).\n",
            "Pickling array (shape=(57000,), dtype=int64).\n",
            "Pickling array (shape=(38000,), dtype=int64).\n",
            "Pickling array (shape=(19000,), dtype=int64).\n",
            "[Parallel(n_jobs=-1)]: Done  29 tasks      | elapsed: 301.2min\n",
            "Memmapping (shape=(57000, 40), dtype=float64) to old file /dev/shm/joblib_memmapping_folder_21092_4725396717/21092-140153391640704-c9a8d23ef754485f89e5f29ea6de7703.pkl\n",
            "Pickling array (shape=(57000,), dtype=int64).\n",
            "Pickling array (shape=(57000,), dtype=int64).\n",
            "Pickling array (shape=(57000,), dtype=int64).\n",
            "Pickling array (shape=(38000,), dtype=int64).\n",
            "Pickling array (shape=(19000,), dtype=int64).\n",
            "[Parallel(n_jobs=-1)]: Done  30 tasks      | elapsed: 301.8min\n",
            "Memmapping (shape=(57000, 40), dtype=float64) to old file /dev/shm/joblib_memmapping_folder_21092_4725396717/21092-140153391640704-c9a8d23ef754485f89e5f29ea6de7703.pkl\n",
            "Pickling array (shape=(57000,), dtype=int64).\n",
            "Pickling array (shape=(57000,), dtype=int64).\n",
            "Pickling array (shape=(57000,), dtype=int64).\n",
            "Pickling array (shape=(38000,), dtype=int64).\n",
            "Pickling array (shape=(19000,), dtype=int64).\n",
            "[Parallel(n_jobs=-1)]: Done  31 tasks      | elapsed: 303.0min\n",
            "Memmapping (shape=(57000, 40), dtype=float64) to old file /dev/shm/joblib_memmapping_folder_21092_4725396717/21092-140153391640704-c9a8d23ef754485f89e5f29ea6de7703.pkl\n",
            "Pickling array (shape=(57000,), dtype=int64).\n",
            "Pickling array (shape=(57000,), dtype=int64).\n",
            "Pickling array (shape=(57000,), dtype=int64).\n",
            "Pickling array (shape=(38000,), dtype=int64).\n",
            "Pickling array (shape=(19000,), dtype=int64).\n",
            "[Parallel(n_jobs=-1)]: Done  32 tasks      | elapsed: 303.3min\n",
            "Memmapping (shape=(57000, 40), dtype=float64) to old file /dev/shm/joblib_memmapping_folder_21092_4725396717/21092-140153391640704-c9a8d23ef754485f89e5f29ea6de7703.pkl\n",
            "Pickling array (shape=(57000,), dtype=int64).\n",
            "Pickling array (shape=(57000,), dtype=int64).\n",
            "Pickling array (shape=(57000,), dtype=int64).\n",
            "Pickling array (shape=(38000,), dtype=int64).\n",
            "Pickling array (shape=(19000,), dtype=int64).\n",
            "[Parallel(n_jobs=-1)]: Done  33 tasks      | elapsed: 339.9min\n",
            "Memmapping (shape=(57000, 40), dtype=float64) to old file /dev/shm/joblib_memmapping_folder_21092_4725396717/21092-140153391640704-c9a8d23ef754485f89e5f29ea6de7703.pkl\n",
            "Pickling array (shape=(57000,), dtype=int64).\n",
            "Pickling array (shape=(57000,), dtype=int64).\n",
            "Pickling array (shape=(57000,), dtype=int64).\n",
            "Pickling array (shape=(38000,), dtype=int64).\n",
            "Pickling array (shape=(19000,), dtype=int64).\n",
            "[Parallel(n_jobs=-1)]: Done  34 tasks      | elapsed: 340.3min\n",
            "Memmapping (shape=(57000, 40), dtype=float64) to old file /dev/shm/joblib_memmapping_folder_21092_4725396717/21092-140153391640704-c9a8d23ef754485f89e5f29ea6de7703.pkl\n",
            "Pickling array (shape=(57000,), dtype=int64).\n",
            "Pickling array (shape=(57000,), dtype=int64).\n",
            "Pickling array (shape=(57000,), dtype=int64).\n",
            "Pickling array (shape=(38000,), dtype=int64).\n",
            "Pickling array (shape=(19000,), dtype=int64).\n",
            "[Parallel(n_jobs=-1)]: Done  35 tasks      | elapsed: 341.1min\n",
            "Memmapping (shape=(57000, 40), dtype=float64) to old file /dev/shm/joblib_memmapping_folder_21092_4725396717/21092-140153391640704-c9a8d23ef754485f89e5f29ea6de7703.pkl\n",
            "Pickling array (shape=(57000,), dtype=int64).\n",
            "Pickling array (shape=(57000,), dtype=int64).\n",
            "Pickling array (shape=(57000,), dtype=int64).\n",
            "Pickling array (shape=(38000,), dtype=int64).\n",
            "Pickling array (shape=(19000,), dtype=int64).\n",
            "[Parallel(n_jobs=-1)]: Done  36 tasks      | elapsed: 341.4min\n",
            "Memmapping (shape=(57000, 40), dtype=float64) to old file /dev/shm/joblib_memmapping_folder_21092_4725396717/21092-140153391640704-c9a8d23ef754485f89e5f29ea6de7703.pkl\n",
            "Pickling array (shape=(57000,), dtype=int64).\n",
            "Pickling array (shape=(57000,), dtype=int64).\n",
            "Pickling array (shape=(57000,), dtype=int64).\n",
            "Pickling array (shape=(38000,), dtype=int64).\n",
            "Pickling array (shape=(19000,), dtype=int64).\n",
            "[Parallel(n_jobs=-1)]: Done  37 tasks      | elapsed: 376.1min\n",
            "Memmapping (shape=(57000, 40), dtype=float64) to old file /dev/shm/joblib_memmapping_folder_21092_4725396717/21092-140153391640704-c9a8d23ef754485f89e5f29ea6de7703.pkl\n",
            "Pickling array (shape=(57000,), dtype=int64).\n",
            "Pickling array (shape=(57000,), dtype=int64).\n",
            "Pickling array (shape=(57000,), dtype=int64).\n",
            "Pickling array (shape=(38000,), dtype=int64).\n",
            "Pickling array (shape=(19000,), dtype=int64).\n",
            "[Parallel(n_jobs=-1)]: Done  38 tasks      | elapsed: 376.8min\n",
            "Memmapping (shape=(57000, 40), dtype=float64) to old file /dev/shm/joblib_memmapping_folder_21092_4725396717/21092-140153391640704-c9a8d23ef754485f89e5f29ea6de7703.pkl\n",
            "Pickling array (shape=(57000,), dtype=int64).\n",
            "Pickling array (shape=(57000,), dtype=int64).\n",
            "Pickling array (shape=(57000,), dtype=int64).\n",
            "Pickling array (shape=(38000,), dtype=int64).\n",
            "Pickling array (shape=(19000,), dtype=int64).\n",
            "[Parallel(n_jobs=-1)]: Done  39 tasks      | elapsed: 377.4min\n",
            "Memmapping (shape=(57000, 40), dtype=float64) to old file /dev/shm/joblib_memmapping_folder_21092_4725396717/21092-140153391640704-c9a8d23ef754485f89e5f29ea6de7703.pkl\n",
            "Pickling array (shape=(57000,), dtype=int64).\n",
            "Pickling array (shape=(57000,), dtype=int64).\n",
            "Pickling array (shape=(57000,), dtype=int64).\n",
            "Pickling array (shape=(38000,), dtype=int64).\n",
            "Pickling array (shape=(19000,), dtype=int64).\n",
            "[Parallel(n_jobs=-1)]: Done  40 tasks      | elapsed: 377.6min\n",
            "Memmapping (shape=(57000, 40), dtype=float64) to old file /dev/shm/joblib_memmapping_folder_21092_4725396717/21092-140153391640704-c9a8d23ef754485f89e5f29ea6de7703.pkl\n",
            "Pickling array (shape=(57000,), dtype=int64).\n",
            "Pickling array (shape=(57000,), dtype=int64).\n",
            "Pickling array (shape=(57000,), dtype=int64).\n",
            "Pickling array (shape=(38000,), dtype=int64).\n",
            "Pickling array (shape=(19000,), dtype=int64).\n",
            "[Parallel(n_jobs=-1)]: Done  41 tasks      | elapsed: 410.5min\n",
            "Memmapping (shape=(57000, 40), dtype=float64) to old file /dev/shm/joblib_memmapping_folder_21092_4725396717/21092-140153391640704-c9a8d23ef754485f89e5f29ea6de7703.pkl\n",
            "Pickling array (shape=(57000,), dtype=int64).\n",
            "Pickling array (shape=(57000,), dtype=int64).\n",
            "Pickling array (shape=(57000,), dtype=int64).\n",
            "Pickling array (shape=(38000,), dtype=int64).\n",
            "Pickling array (shape=(19000,), dtype=int64).\n",
            "[Parallel(n_jobs=-1)]: Done  42 tasks      | elapsed: 411.1min\n",
            "Memmapping (shape=(57000, 40), dtype=float64) to old file /dev/shm/joblib_memmapping_folder_21092_4725396717/21092-140153391640704-c9a8d23ef754485f89e5f29ea6de7703.pkl\n",
            "Pickling array (shape=(57000,), dtype=int64).\n",
            "Pickling array (shape=(57000,), dtype=int64).\n",
            "Pickling array (shape=(57000,), dtype=int64).\n",
            "Pickling array (shape=(38000,), dtype=int64).\n",
            "Pickling array (shape=(19000,), dtype=int64).\n",
            "[Parallel(n_jobs=-1)]: Done  43 tasks      | elapsed: 411.8min\n",
            "Memmapping (shape=(57000, 40), dtype=float64) to old file /dev/shm/joblib_memmapping_folder_21092_4725396717/21092-140153391640704-c9a8d23ef754485f89e5f29ea6de7703.pkl\n",
            "Pickling array (shape=(57000,), dtype=int64).\n",
            "Pickling array (shape=(57000,), dtype=int64).\n",
            "Pickling array (shape=(57000,), dtype=int64).\n",
            "Pickling array (shape=(38000,), dtype=int64).\n",
            "Pickling array (shape=(19000,), dtype=int64).\n",
            "[Parallel(n_jobs=-1)]: Done  44 tasks      | elapsed: 412.2min\n",
            "Memmapping (shape=(57000, 40), dtype=float64) to old file /dev/shm/joblib_memmapping_folder_21092_4725396717/21092-140153391640704-c9a8d23ef754485f89e5f29ea6de7703.pkl\n",
            "Pickling array (shape=(57000,), dtype=int64).\n",
            "Pickling array (shape=(57000,), dtype=int64).\n",
            "Pickling array (shape=(57000,), dtype=int64).\n",
            "Pickling array (shape=(38000,), dtype=int64).\n",
            "Pickling array (shape=(19000,), dtype=int64).\n",
            "[Parallel(n_jobs=-1)]: Done  45 tasks      | elapsed: 447.3min\n",
            "Memmapping (shape=(57000, 40), dtype=float64) to old file /dev/shm/joblib_memmapping_folder_21092_4725396717/21092-140153391640704-c9a8d23ef754485f89e5f29ea6de7703.pkl\n",
            "Pickling array (shape=(57000,), dtype=int64).\n",
            "Pickling array (shape=(57000,), dtype=int64).\n",
            "Pickling array (shape=(57000,), dtype=int64).\n",
            "Pickling array (shape=(38000,), dtype=int64).\n",
            "Pickling array (shape=(19000,), dtype=int64).\n",
            "[Parallel(n_jobs=-1)]: Done  46 tasks      | elapsed: 448.4min\n",
            "Memmapping (shape=(57000, 40), dtype=float64) to old file /dev/shm/joblib_memmapping_folder_21092_4725396717/21092-140153391640704-c9a8d23ef754485f89e5f29ea6de7703.pkl\n",
            "Pickling array (shape=(57000,), dtype=int64).\n",
            "Pickling array (shape=(57000,), dtype=int64).\n",
            "Pickling array (shape=(57000,), dtype=int64).\n",
            "Pickling array (shape=(38000,), dtype=int64).\n",
            "Pickling array (shape=(19000,), dtype=int64).\n",
            "[Parallel(n_jobs=-1)]: Done  47 tasks      | elapsed: 449.2min\n",
            "Memmapping (shape=(57000, 40), dtype=float64) to old file /dev/shm/joblib_memmapping_folder_21092_4725396717/21092-140153391640704-c9a8d23ef754485f89e5f29ea6de7703.pkl\n",
            "Pickling array (shape=(57000,), dtype=int64).\n",
            "Pickling array (shape=(57000,), dtype=int64).\n",
            "Pickling array (shape=(57000,), dtype=int64).\n",
            "Pickling array (shape=(38000,), dtype=int64).\n",
            "Pickling array (shape=(19000,), dtype=int64).\n",
            "[Parallel(n_jobs=-1)]: Done  48 tasks      | elapsed: 449.8min\n",
            "Memmapping (shape=(57000, 40), dtype=float64) to old file /dev/shm/joblib_memmapping_folder_21092_4725396717/21092-140153391640704-c9a8d23ef754485f89e5f29ea6de7703.pkl\n",
            "Pickling array (shape=(57000,), dtype=int64).\n",
            "Pickling array (shape=(57000,), dtype=int64).\n",
            "Pickling array (shape=(57000,), dtype=int64).\n",
            "Pickling array (shape=(38000,), dtype=int64).\n",
            "Pickling array (shape=(19000,), dtype=int64).\n",
            "[Parallel(n_jobs=-1)]: Done  49 tasks      | elapsed: 484.9min\n",
            "Memmapping (shape=(57000, 40), dtype=float64) to old file /dev/shm/joblib_memmapping_folder_21092_4725396717/21092-140153391640704-c9a8d23ef754485f89e5f29ea6de7703.pkl\n",
            "Pickling array (shape=(57000,), dtype=int64).\n",
            "Pickling array (shape=(57000,), dtype=int64).\n",
            "Pickling array (shape=(57000,), dtype=int64).\n",
            "Pickling array (shape=(38000,), dtype=int64).\n",
            "Pickling array (shape=(19000,), dtype=int64).\n",
            "[Parallel(n_jobs=-1)]: Done  50 tasks      | elapsed: 486.1min\n",
            "Memmapping (shape=(57000, 40), dtype=float64) to old file /dev/shm/joblib_memmapping_folder_21092_4725396717/21092-140153391640704-c9a8d23ef754485f89e5f29ea6de7703.pkl\n",
            "Pickling array (shape=(57000,), dtype=int64).\n",
            "Pickling array (shape=(57000,), dtype=int64).\n",
            "Pickling array (shape=(57000,), dtype=int64).\n",
            "Pickling array (shape=(38000,), dtype=int64).\n",
            "Pickling array (shape=(19000,), dtype=int64).\n",
            "[Parallel(n_jobs=-1)]: Done  51 tasks      | elapsed: 486.8min\n",
            "Memmapping (shape=(57000, 40), dtype=float64) to old file /dev/shm/joblib_memmapping_folder_21092_4725396717/21092-140153391640704-c9a8d23ef754485f89e5f29ea6de7703.pkl\n",
            "Pickling array (shape=(57000,), dtype=int64).\n",
            "Pickling array (shape=(57000,), dtype=int64).\n",
            "Pickling array (shape=(57000,), dtype=int64).\n",
            "Pickling array (shape=(38000,), dtype=int64).\n",
            "Pickling array (shape=(19000,), dtype=int64).\n",
            "[Parallel(n_jobs=-1)]: Done  52 tasks      | elapsed: 487.4min\n",
            "Memmapping (shape=(57000, 40), dtype=float64) to old file /dev/shm/joblib_memmapping_folder_21092_4725396717/21092-140153391640704-c9a8d23ef754485f89e5f29ea6de7703.pkl\n",
            "Pickling array (shape=(57000,), dtype=int64).\n",
            "Pickling array (shape=(57000,), dtype=int64).\n",
            "Pickling array (shape=(57000,), dtype=int64).\n",
            "Pickling array (shape=(38000,), dtype=int64).\n",
            "Pickling array (shape=(19000,), dtype=int64).\n",
            "[Parallel(n_jobs=-1)]: Done  53 tasks      | elapsed: 521.3min\n",
            "Memmapping (shape=(57000, 40), dtype=float64) to old file /dev/shm/joblib_memmapping_folder_21092_4725396717/21092-140153391640704-c9a8d23ef754485f89e5f29ea6de7703.pkl\n",
            "Pickling array (shape=(57000,), dtype=int64).\n",
            "Pickling array (shape=(57000,), dtype=int64).\n",
            "Pickling array (shape=(57000,), dtype=int64).\n",
            "Pickling array (shape=(38000,), dtype=int64).\n",
            "Pickling array (shape=(19000,), dtype=int64).\n",
            "[Parallel(n_jobs=-1)]: Done  54 tasks      | elapsed: 523.0min\n",
            "Memmapping (shape=(57000, 40), dtype=float64) to old file /dev/shm/joblib_memmapping_folder_21092_4725396717/21092-140153391640704-c9a8d23ef754485f89e5f29ea6de7703.pkl\n",
            "Pickling array (shape=(57000,), dtype=int64).\n",
            "Pickling array (shape=(57000,), dtype=int64).\n",
            "Pickling array (shape=(57000,), dtype=int64).\n",
            "Pickling array (shape=(38000,), dtype=int64).\n",
            "Pickling array (shape=(19000,), dtype=int64).\n",
            "[Parallel(n_jobs=-1)]: Done  55 tasks      | elapsed: 523.9min\n",
            "Memmapping (shape=(57000, 40), dtype=float64) to old file /dev/shm/joblib_memmapping_folder_21092_4725396717/21092-140153391640704-c9a8d23ef754485f89e5f29ea6de7703.pkl\n",
            "Pickling array (shape=(57000,), dtype=int64).\n",
            "Pickling array (shape=(57000,), dtype=int64).\n",
            "Pickling array (shape=(57000,), dtype=int64).\n",
            "Pickling array (shape=(38000,), dtype=int64).\n",
            "Pickling array (shape=(19000,), dtype=int64).\n",
            "[Parallel(n_jobs=-1)]: Done  56 tasks      | elapsed: 524.4min\n",
            "Memmapping (shape=(57000, 40), dtype=float64) to old file /dev/shm/joblib_memmapping_folder_21092_4725396717/21092-140153391640704-c9a8d23ef754485f89e5f29ea6de7703.pkl\n",
            "Pickling array (shape=(57000,), dtype=int64).\n",
            "Pickling array (shape=(57000,), dtype=int64).\n",
            "Pickling array (shape=(57000,), dtype=int64).\n",
            "Pickling array (shape=(38000,), dtype=int64).\n",
            "Pickling array (shape=(19000,), dtype=int64).\n",
            "[Parallel(n_jobs=-1)]: Done  57 tasks      | elapsed: 560.3min\n",
            "Memmapping (shape=(57000, 40), dtype=float64) to old file /dev/shm/joblib_memmapping_folder_21092_4725396717/21092-140153391640704-c9a8d23ef754485f89e5f29ea6de7703.pkl\n",
            "Pickling array (shape=(57000,), dtype=int64).\n",
            "Pickling array (shape=(57000,), dtype=int64).\n",
            "Pickling array (shape=(57000,), dtype=int64).\n",
            "Pickling array (shape=(38000,), dtype=int64).\n",
            "Pickling array (shape=(19000,), dtype=int64).\n",
            "[Parallel(n_jobs=-1)]: Done  58 tasks      | elapsed: 562.4min\n",
            "Memmapping (shape=(57000, 40), dtype=float64) to old file /dev/shm/joblib_memmapping_folder_21092_4725396717/21092-140153391640704-c9a8d23ef754485f89e5f29ea6de7703.pkl\n",
            "Pickling array (shape=(57000,), dtype=int64).\n",
            "Pickling array (shape=(57000,), dtype=int64).\n",
            "Pickling array (shape=(57000,), dtype=int64).\n",
            "Pickling array (shape=(38000,), dtype=int64).\n",
            "Pickling array (shape=(19000,), dtype=int64).\n",
            "[Parallel(n_jobs=-1)]: Done  59 tasks      | elapsed: 563.2min\n",
            "Memmapping (shape=(57000, 40), dtype=float64) to old file /dev/shm/joblib_memmapping_folder_21092_4725396717/21092-140153391640704-c9a8d23ef754485f89e5f29ea6de7703.pkl\n",
            "Pickling array (shape=(57000,), dtype=int64).\n",
            "Pickling array (shape=(57000,), dtype=int64).\n",
            "Pickling array (shape=(57000,), dtype=int64).\n",
            "Pickling array (shape=(38000,), dtype=int64).\n",
            "Pickling array (shape=(19000,), dtype=int64).\n",
            "[Parallel(n_jobs=-1)]: Done  60 tasks      | elapsed: 563.5min\n",
            "Memmapping (shape=(57000, 40), dtype=float64) to old file /dev/shm/joblib_memmapping_folder_21092_4725396717/21092-140153391640704-c9a8d23ef754485f89e5f29ea6de7703.pkl\n",
            "Pickling array (shape=(57000,), dtype=int64).\n",
            "Pickling array (shape=(57000,), dtype=int64).\n",
            "Pickling array (shape=(57000,), dtype=int64).\n",
            "Pickling array (shape=(38000,), dtype=int64).\n",
            "Pickling array (shape=(19000,), dtype=int64).\n",
            "[Parallel(n_jobs=-1)]: Done  61 tasks      | elapsed: 597.9min\n",
            "Memmapping (shape=(57000, 40), dtype=float64) to old file /dev/shm/joblib_memmapping_folder_21092_4725396717/21092-140153391640704-c9a8d23ef754485f89e5f29ea6de7703.pkl\n",
            "Pickling array (shape=(57000,), dtype=int64).\n",
            "Pickling array (shape=(57000,), dtype=int64).\n",
            "Pickling array (shape=(57000,), dtype=int64).\n",
            "Pickling array (shape=(38000,), dtype=int64).\n",
            "Pickling array (shape=(19000,), dtype=int64).\n",
            "[Parallel(n_jobs=-1)]: Done  62 tasks      | elapsed: 601.2min\n",
            "Memmapping (shape=(57000, 40), dtype=float64) to old file /dev/shm/joblib_memmapping_folder_21092_4725396717/21092-140153391640704-c9a8d23ef754485f89e5f29ea6de7703.pkl\n",
            "Pickling array (shape=(57000,), dtype=int64).\n",
            "Pickling array (shape=(57000,), dtype=int64).\n",
            "Pickling array (shape=(57000,), dtype=int64).\n",
            "Pickling array (shape=(38000,), dtype=int64).\n",
            "Pickling array (shape=(19000,), dtype=int64).\n",
            "[Parallel(n_jobs=-1)]: Done  63 tasks      | elapsed: 602.1min\n",
            "Memmapping (shape=(57000, 40), dtype=float64) to old file /dev/shm/joblib_memmapping_folder_21092_4725396717/21092-140153391640704-c9a8d23ef754485f89e5f29ea6de7703.pkl\n",
            "Pickling array (shape=(57000,), dtype=int64).\n",
            "Pickling array (shape=(57000,), dtype=int64).\n",
            "Pickling array (shape=(57000,), dtype=int64).\n",
            "Pickling array (shape=(38000,), dtype=int64).\n",
            "Pickling array (shape=(19000,), dtype=int64).\n",
            "[Parallel(n_jobs=-1)]: Done  64 tasks      | elapsed: 603.0min\n",
            "Memmapping (shape=(57000, 40), dtype=float64) to old file /dev/shm/joblib_memmapping_folder_21092_4725396717/21092-140153391640704-c9a8d23ef754485f89e5f29ea6de7703.pkl\n",
            "Pickling array (shape=(57000,), dtype=int64).\n",
            "Pickling array (shape=(57000,), dtype=int64).\n",
            "Pickling array (shape=(57000,), dtype=int64).\n",
            "Pickling array (shape=(38000,), dtype=int64).\n",
            "Pickling array (shape=(19000,), dtype=int64).\n",
            "[Parallel(n_jobs=-1)]: Done  65 tasks      | elapsed: 637.6min\n",
            "Memmapping (shape=(57000, 40), dtype=float64) to old file /dev/shm/joblib_memmapping_folder_21092_4725396717/21092-140153391640704-c9a8d23ef754485f89e5f29ea6de7703.pkl\n",
            "Pickling array (shape=(57000,), dtype=int64).\n",
            "Pickling array (shape=(57000,), dtype=int64).\n",
            "Pickling array (shape=(57000,), dtype=int64).\n",
            "Pickling array (shape=(38000,), dtype=int64).\n",
            "Pickling array (shape=(19000,), dtype=int64).\n",
            "[Parallel(n_jobs=-1)]: Done  66 tasks      | elapsed: 639.9min\n",
            "Memmapping (shape=(57000, 40), dtype=float64) to old file /dev/shm/joblib_memmapping_folder_21092_4725396717/21092-140153391640704-c9a8d23ef754485f89e5f29ea6de7703.pkl\n",
            "Pickling array (shape=(57000,), dtype=int64).\n",
            "Pickling array (shape=(57000,), dtype=int64).\n",
            "Pickling array (shape=(57000,), dtype=int64).\n",
            "Pickling array (shape=(38000,), dtype=int64).\n",
            "Pickling array (shape=(19000,), dtype=int64).\n",
            "[Parallel(n_jobs=-1)]: Done  67 tasks      | elapsed: 640.6min\n",
            "Memmapping (shape=(57000, 40), dtype=float64) to old file /dev/shm/joblib_memmapping_folder_21092_4725396717/21092-140153391640704-c9a8d23ef754485f89e5f29ea6de7703.pkl\n",
            "Pickling array (shape=(57000,), dtype=int64).\n",
            "Pickling array (shape=(57000,), dtype=int64).\n",
            "Pickling array (shape=(57000,), dtype=int64).\n",
            "Pickling array (shape=(38000,), dtype=int64).\n",
            "Pickling array (shape=(19000,), dtype=int64).\n",
            "[Parallel(n_jobs=-1)]: Done  68 tasks      | elapsed: 641.8min\n",
            "Memmapping (shape=(57000, 40), dtype=float64) to old file /dev/shm/joblib_memmapping_folder_21092_4725396717/21092-140153391640704-c9a8d23ef754485f89e5f29ea6de7703.pkl\n",
            "Pickling array (shape=(57000,), dtype=int64).\n",
            "Pickling array (shape=(57000,), dtype=int64).\n",
            "Pickling array (shape=(57000,), dtype=int64).\n",
            "Pickling array (shape=(38000,), dtype=int64).\n",
            "Pickling array (shape=(19000,), dtype=int64).\n",
            "[Parallel(n_jobs=-1)]: Done  69 tasks      | elapsed: 677.1min\n",
            "Memmapping (shape=(57000, 40), dtype=float64) to old file /dev/shm/joblib_memmapping_folder_21092_4725396717/21092-140153391640704-c9a8d23ef754485f89e5f29ea6de7703.pkl\n",
            "Pickling array (shape=(57000,), dtype=int64).\n",
            "Pickling array (shape=(57000,), dtype=int64).\n",
            "Pickling array (shape=(57000,), dtype=int64).\n",
            "Pickling array (shape=(38000,), dtype=int64).\n",
            "Pickling array (shape=(19000,), dtype=int64).\n",
            "[Parallel(n_jobs=-1)]: Done  70 tasks      | elapsed: 679.6min\n",
            "Memmapping (shape=(57000, 40), dtype=float64) to old file /dev/shm/joblib_memmapping_folder_21092_4725396717/21092-140153391640704-c9a8d23ef754485f89e5f29ea6de7703.pkl\n",
            "Pickling array (shape=(57000,), dtype=int64).\n",
            "Pickling array (shape=(57000,), dtype=int64).\n",
            "Pickling array (shape=(57000,), dtype=int64).\n",
            "Pickling array (shape=(38000,), dtype=int64).\n",
            "Pickling array (shape=(19000,), dtype=int64).\n",
            "[Parallel(n_jobs=-1)]: Done  71 tasks      | elapsed: 680.4min\n",
            "Memmapping (shape=(57000, 40), dtype=float64) to old file /dev/shm/joblib_memmapping_folder_21092_4725396717/21092-140153391640704-c9a8d23ef754485f89e5f29ea6de7703.pkl\n",
            "Pickling array (shape=(57000,), dtype=int64).\n",
            "Pickling array (shape=(57000,), dtype=int64).\n",
            "Pickling array (shape=(57000,), dtype=int64).\n",
            "Pickling array (shape=(38000,), dtype=int64).\n",
            "Pickling array (shape=(19000,), dtype=int64).\n",
            "[Parallel(n_jobs=-1)]: Done  72 tasks      | elapsed: 681.0min\n",
            "Memmapping (shape=(57000, 40), dtype=float64) to old file /dev/shm/joblib_memmapping_folder_21092_4725396717/21092-140153391640704-c9a8d23ef754485f89e5f29ea6de7703.pkl\n",
            "Pickling array (shape=(57000,), dtype=int64).\n",
            "Pickling array (shape=(57000,), dtype=int64).\n",
            "Pickling array (shape=(57000,), dtype=int64).\n",
            "Pickling array (shape=(38000,), dtype=int64).\n",
            "Pickling array (shape=(19000,), dtype=int64).\n",
            "[Parallel(n_jobs=-1)]: Done  73 tasks      | elapsed: 711.2min\n",
            "Memmapping (shape=(57000, 40), dtype=float64) to old file /dev/shm/joblib_memmapping_folder_21092_4725396717/21092-140153391640704-c9a8d23ef754485f89e5f29ea6de7703.pkl\n",
            "Pickling array (shape=(57000,), dtype=int64).\n",
            "Pickling array (shape=(57000,), dtype=int64).\n",
            "Pickling array (shape=(57000,), dtype=int64).\n",
            "Pickling array (shape=(38000,), dtype=int64).\n",
            "Pickling array (shape=(19000,), dtype=int64).\n",
            "[Parallel(n_jobs=-1)]: Done  74 tasks      | elapsed: 713.8min\n",
            "Memmapping (shape=(57000, 40), dtype=float64) to old file /dev/shm/joblib_memmapping_folder_21092_4725396717/21092-140153391640704-c9a8d23ef754485f89e5f29ea6de7703.pkl\n",
            "Pickling array (shape=(57000,), dtype=int64).\n",
            "Pickling array (shape=(57000,), dtype=int64).\n",
            "Pickling array (shape=(57000,), dtype=int64).\n",
            "Pickling array (shape=(38000,), dtype=int64).\n",
            "Pickling array (shape=(19000,), dtype=int64).\n",
            "[Parallel(n_jobs=-1)]: Done  75 tasks      | elapsed: 714.7min\n",
            "Memmapping (shape=(57000, 40), dtype=float64) to old file /dev/shm/joblib_memmapping_folder_21092_4725396717/21092-140153391640704-c9a8d23ef754485f89e5f29ea6de7703.pkl\n",
            "Pickling array (shape=(57000,), dtype=int64).\n",
            "Pickling array (shape=(57000,), dtype=int64).\n",
            "Pickling array (shape=(57000,), dtype=int64).\n",
            "Pickling array (shape=(38000,), dtype=int64).\n",
            "Pickling array (shape=(19000,), dtype=int64).\n",
            "[Parallel(n_jobs=-1)]: Done  76 tasks      | elapsed: 715.2min\n",
            "Memmapping (shape=(57000, 40), dtype=float64) to old file /dev/shm/joblib_memmapping_folder_21092_4725396717/21092-140153391640704-c9a8d23ef754485f89e5f29ea6de7703.pkl\n",
            "Pickling array (shape=(57000,), dtype=int64).\n",
            "Pickling array (shape=(57000,), dtype=int64).\n",
            "Pickling array (shape=(57000,), dtype=int64).\n",
            "Pickling array (shape=(38000,), dtype=int64).\n",
            "Pickling array (shape=(19000,), dtype=int64).\n",
            "[Parallel(n_jobs=-1)]: Done  77 tasks      | elapsed: 747.4min\n",
            "Memmapping (shape=(57000, 40), dtype=float64) to old file /dev/shm/joblib_memmapping_folder_21092_4725396717/21092-140153391640704-c9a8d23ef754485f89e5f29ea6de7703.pkl\n",
            "Pickling array (shape=(57000,), dtype=int64).\n",
            "Pickling array (shape=(57000,), dtype=int64).\n",
            "Pickling array (shape=(57000,), dtype=int64).\n",
            "Pickling array (shape=(38000,), dtype=int64).\n",
            "Pickling array (shape=(19000,), dtype=int64).\n",
            "[Parallel(n_jobs=-1)]: Done  78 tasks      | elapsed: 749.7min\n",
            "Memmapping (shape=(57000, 40), dtype=float64) to old file /dev/shm/joblib_memmapping_folder_21092_4725396717/21092-140153391640704-c9a8d23ef754485f89e5f29ea6de7703.pkl\n",
            "Pickling array (shape=(57000,), dtype=int64).\n",
            "Pickling array (shape=(57000,), dtype=int64).\n",
            "Pickling array (shape=(57000,), dtype=int64).\n",
            "Pickling array (shape=(38000,), dtype=int64).\n",
            "Pickling array (shape=(19000,), dtype=int64).\n",
            "[Parallel(n_jobs=-1)]: Done  79 tasks      | elapsed: 750.6min\n",
            "Memmapping (shape=(57000, 40), dtype=float64) to old file /dev/shm/joblib_memmapping_folder_21092_4725396717/21092-140153391640704-c9a8d23ef754485f89e5f29ea6de7703.pkl\n",
            "Pickling array (shape=(57000,), dtype=int64).\n",
            "Pickling array (shape=(57000,), dtype=int64).\n",
            "Pickling array (shape=(57000,), dtype=int64).\n",
            "Pickling array (shape=(38000,), dtype=int64).\n",
            "Pickling array (shape=(19000,), dtype=int64).\n",
            "[Parallel(n_jobs=-1)]: Done  80 tasks      | elapsed: 751.4min\n",
            "Memmapping (shape=(57000, 40), dtype=float64) to old file /dev/shm/joblib_memmapping_folder_21092_4725396717/21092-140153391640704-c9a8d23ef754485f89e5f29ea6de7703.pkl\n",
            "Pickling array (shape=(57000,), dtype=int64).\n",
            "Pickling array (shape=(57000,), dtype=int64).\n",
            "Pickling array (shape=(57000,), dtype=int64).\n",
            "Pickling array (shape=(38000,), dtype=int64).\n",
            "Pickling array (shape=(19000,), dtype=int64).\n",
            "[Parallel(n_jobs=-1)]: Done  81 tasks      | elapsed: 784.3min\n",
            "Memmapping (shape=(57000, 40), dtype=float64) to old file /dev/shm/joblib_memmapping_folder_21092_4725396717/21092-140153391640704-c9a8d23ef754485f89e5f29ea6de7703.pkl\n",
            "Pickling array (shape=(57000,), dtype=int64).\n",
            "Pickling array (shape=(57000,), dtype=int64).\n",
            "Pickling array (shape=(57000,), dtype=int64).\n",
            "Pickling array (shape=(38000,), dtype=int64).\n",
            "Pickling array (shape=(19000,), dtype=int64).\n",
            "[Parallel(n_jobs=-1)]: Done  82 tasks      | elapsed: 787.5min\n",
            "Memmapping (shape=(57000, 40), dtype=float64) to old file /dev/shm/joblib_memmapping_folder_21092_4725396717/21092-140153391640704-c9a8d23ef754485f89e5f29ea6de7703.pkl\n",
            "Pickling array (shape=(57000,), dtype=int64).\n",
            "Pickling array (shape=(57000,), dtype=int64).\n",
            "Pickling array (shape=(57000,), dtype=int64).\n",
            "Pickling array (shape=(38000,), dtype=int64).\n",
            "Pickling array (shape=(19000,), dtype=int64).\n",
            "[Parallel(n_jobs=-1)]: Done  83 tasks      | elapsed: 788.6min\n",
            "Memmapping (shape=(57000, 40), dtype=float64) to old file /dev/shm/joblib_memmapping_folder_21092_4725396717/21092-140153391640704-c9a8d23ef754485f89e5f29ea6de7703.pkl\n",
            "Pickling array (shape=(57000,), dtype=int64).\n",
            "Pickling array (shape=(57000,), dtype=int64).\n",
            "Pickling array (shape=(57000,), dtype=int64).\n",
            "Pickling array (shape=(38000,), dtype=int64).\n",
            "Pickling array (shape=(19000,), dtype=int64).\n",
            "[Parallel(n_jobs=-1)]: Done  84 tasks      | elapsed: 789.2min\n",
            "Memmapping (shape=(57000, 40), dtype=float64) to old file /dev/shm/joblib_memmapping_folder_21092_4725396717/21092-140153391640704-c9a8d23ef754485f89e5f29ea6de7703.pkl\n",
            "Pickling array (shape=(57000,), dtype=int64).\n",
            "Pickling array (shape=(57000,), dtype=int64).\n",
            "Pickling array (shape=(57000,), dtype=int64).\n",
            "Pickling array (shape=(38000,), dtype=int64).\n",
            "Pickling array (shape=(19000,), dtype=int64).\n",
            "[Parallel(n_jobs=-1)]: Done  85 tasks      | elapsed: 820.3min\n",
            "Memmapping (shape=(57000, 40), dtype=float64) to old file /dev/shm/joblib_memmapping_folder_21092_4725396717/21092-140153391640704-c9a8d23ef754485f89e5f29ea6de7703.pkl\n",
            "Pickling array (shape=(57000,), dtype=int64).\n",
            "Pickling array (shape=(57000,), dtype=int64).\n",
            "Pickling array (shape=(57000,), dtype=int64).\n",
            "Pickling array (shape=(38000,), dtype=int64).\n",
            "Pickling array (shape=(19000,), dtype=int64).\n",
            "[Parallel(n_jobs=-1)]: Done  86 tasks      | elapsed: 823.6min\n",
            "Memmapping (shape=(57000, 40), dtype=float64) to old file /dev/shm/joblib_memmapping_folder_21092_4725396717/21092-140153391640704-c9a8d23ef754485f89e5f29ea6de7703.pkl\n",
            "Pickling array (shape=(57000,), dtype=int64).\n",
            "Pickling array (shape=(57000,), dtype=int64).\n",
            "Pickling array (shape=(57000,), dtype=int64).\n",
            "Pickling array (shape=(38000,), dtype=int64).\n",
            "Pickling array (shape=(19000,), dtype=int64).\n",
            "[Parallel(n_jobs=-1)]: Done  87 tasks      | elapsed: 824.3min\n",
            "Memmapping (shape=(57000, 40), dtype=float64) to old file /dev/shm/joblib_memmapping_folder_21092_4725396717/21092-140153391640704-c9a8d23ef754485f89e5f29ea6de7703.pkl\n",
            "Pickling array (shape=(57000,), dtype=int64).\n",
            "Pickling array (shape=(57000,), dtype=int64).\n",
            "Pickling array (shape=(57000,), dtype=int64).\n",
            "Pickling array (shape=(38000,), dtype=int64).\n",
            "Pickling array (shape=(19000,), dtype=int64).\n",
            "[Parallel(n_jobs=-1)]: Done  88 tasks      | elapsed: 825.0min\n",
            "Memmapping (shape=(57000, 40), dtype=float64) to old file /dev/shm/joblib_memmapping_folder_21092_4725396717/21092-140153391640704-c9a8d23ef754485f89e5f29ea6de7703.pkl\n",
            "Pickling array (shape=(57000,), dtype=int64).\n",
            "Pickling array (shape=(57000,), dtype=int64).\n",
            "Pickling array (shape=(57000,), dtype=int64).\n",
            "Pickling array (shape=(38000,), dtype=int64).\n",
            "Pickling array (shape=(19000,), dtype=int64).\n",
            "[Parallel(n_jobs=-1)]: Done  89 tasks      | elapsed: 858.6min\n",
            "Memmapping (shape=(57000, 40), dtype=float64) to old file /dev/shm/joblib_memmapping_folder_21092_4725396717/21092-140153391640704-c9a8d23ef754485f89e5f29ea6de7703.pkl\n",
            "Pickling array (shape=(57000,), dtype=int64).\n",
            "Pickling array (shape=(57000,), dtype=int64).\n",
            "Pickling array (shape=(57000,), dtype=int64).\n",
            "Pickling array (shape=(38000,), dtype=int64).\n",
            "Pickling array (shape=(19000,), dtype=int64).\n",
            "[Parallel(n_jobs=-1)]: Done  90 tasks      | elapsed: 861.9min\n",
            "Memmapping (shape=(57000, 40), dtype=float64) to old file /dev/shm/joblib_memmapping_folder_21092_4725396717/21092-140153391640704-c9a8d23ef754485f89e5f29ea6de7703.pkl\n",
            "Pickling array (shape=(57000,), dtype=int64).\n",
            "Pickling array (shape=(57000,), dtype=int64).\n",
            "Pickling array (shape=(57000,), dtype=int64).\n",
            "Pickling array (shape=(38000,), dtype=int64).\n",
            "Pickling array (shape=(19000,), dtype=int64).\n",
            "[Parallel(n_jobs=-1)]: Done  91 tasks      | elapsed: 862.8min\n",
            "Memmapping (shape=(57000, 40), dtype=float64) to old file /dev/shm/joblib_memmapping_folder_21092_4725396717/21092-140153391640704-c9a8d23ef754485f89e5f29ea6de7703.pkl\n",
            "Pickling array (shape=(57000,), dtype=int64).\n",
            "Pickling array (shape=(57000,), dtype=int64).\n",
            "Pickling array (shape=(57000,), dtype=int64).\n",
            "Pickling array (shape=(38000,), dtype=int64).\n",
            "Pickling array (shape=(19000,), dtype=int64).\n",
            "[Parallel(n_jobs=-1)]: Done  92 tasks      | elapsed: 863.7min\n",
            "Memmapping (shape=(57000, 40), dtype=float64) to old file /dev/shm/joblib_memmapping_folder_21092_4725396717/21092-140153391640704-c9a8d23ef754485f89e5f29ea6de7703.pkl\n",
            "Pickling array (shape=(57000,), dtype=int64).\n",
            "Pickling array (shape=(57000,), dtype=int64).\n",
            "Pickling array (shape=(57000,), dtype=int64).\n",
            "Pickling array (shape=(38000,), dtype=int64).\n",
            "Pickling array (shape=(19000,), dtype=int64).\n",
            "[Parallel(n_jobs=-1)]: Done  93 tasks      | elapsed: 895.8min\n",
            "Memmapping (shape=(57000, 40), dtype=float64) to old file /dev/shm/joblib_memmapping_folder_21092_4725396717/21092-140153391640704-c9a8d23ef754485f89e5f29ea6de7703.pkl\n",
            "Pickling array (shape=(57000,), dtype=int64).\n",
            "Pickling array (shape=(57000,), dtype=int64).\n",
            "Pickling array (shape=(57000,), dtype=int64).\n",
            "Pickling array (shape=(38000,), dtype=int64).\n",
            "Pickling array (shape=(19000,), dtype=int64).\n",
            "[Parallel(n_jobs=-1)]: Done  94 tasks      | elapsed: 900.4min\n",
            "Memmapping (shape=(57000, 40), dtype=float64) to old file /dev/shm/joblib_memmapping_folder_21092_4725396717/21092-140153391640704-c9a8d23ef754485f89e5f29ea6de7703.pkl\n",
            "Pickling array (shape=(57000,), dtype=int64).\n",
            "Pickling array (shape=(57000,), dtype=int64).\n",
            "Pickling array (shape=(57000,), dtype=int64).\n",
            "Pickling array (shape=(38000,), dtype=int64).\n",
            "Pickling array (shape=(19000,), dtype=int64).\n",
            "[Parallel(n_jobs=-1)]: Done  95 tasks      | elapsed: 901.4min\n",
            "Memmapping (shape=(57000, 40), dtype=float64) to old file /dev/shm/joblib_memmapping_folder_21092_4725396717/21092-140153391640704-c9a8d23ef754485f89e5f29ea6de7703.pkl\n",
            "Pickling array (shape=(57000,), dtype=int64).\n",
            "Pickling array (shape=(57000,), dtype=int64).\n",
            "Pickling array (shape=(57000,), dtype=int64).\n",
            "Pickling array (shape=(38000,), dtype=int64).\n",
            "Pickling array (shape=(19000,), dtype=int64).\n",
            "[Parallel(n_jobs=-1)]: Done  96 tasks      | elapsed: 902.6min\n",
            "Memmapping (shape=(57000, 40), dtype=float64) to old file /dev/shm/joblib_memmapping_folder_21092_4725396717/21092-140153391640704-c9a8d23ef754485f89e5f29ea6de7703.pkl\n",
            "Pickling array (shape=(57000,), dtype=int64).\n",
            "Pickling array (shape=(57000,), dtype=int64).\n",
            "Pickling array (shape=(57000,), dtype=int64).\n",
            "Pickling array (shape=(38000,), dtype=int64).\n",
            "Pickling array (shape=(19000,), dtype=int64).\n",
            "[Parallel(n_jobs=-1)]: Done  97 tasks      | elapsed: 934.2min\n",
            "Memmapping (shape=(57000, 40), dtype=float64) to old file /dev/shm/joblib_memmapping_folder_21092_4725396717/21092-140153391640704-c9a8d23ef754485f89e5f29ea6de7703.pkl\n",
            "Pickling array (shape=(57000,), dtype=int64).\n",
            "Pickling array (shape=(57000,), dtype=int64).\n",
            "Pickling array (shape=(57000,), dtype=int64).\n",
            "Pickling array (shape=(38000,), dtype=int64).\n",
            "Pickling array (shape=(19000,), dtype=int64).\n",
            "[Parallel(n_jobs=-1)]: Done  98 tasks      | elapsed: 938.0min\n",
            "Memmapping (shape=(57000, 40), dtype=float64) to old file /dev/shm/joblib_memmapping_folder_21092_4725396717/21092-140153391640704-c9a8d23ef754485f89e5f29ea6de7703.pkl\n",
            "Pickling array (shape=(57000,), dtype=int64).\n",
            "Pickling array (shape=(57000,), dtype=int64).\n",
            "Pickling array (shape=(57000,), dtype=int64).\n",
            "Pickling array (shape=(38000,), dtype=int64).\n",
            "Pickling array (shape=(19000,), dtype=int64).\n",
            "[Parallel(n_jobs=-1)]: Done  99 tasks      | elapsed: 938.7min\n",
            "Memmapping (shape=(57000, 40), dtype=float64) to old file /dev/shm/joblib_memmapping_folder_21092_4725396717/21092-140153391640704-c9a8d23ef754485f89e5f29ea6de7703.pkl\n",
            "Pickling array (shape=(57000,), dtype=int64).\n",
            "Pickling array (shape=(57000,), dtype=int64).\n",
            "Pickling array (shape=(57000,), dtype=int64).\n",
            "Pickling array (shape=(38000,), dtype=int64).\n",
            "Pickling array (shape=(19000,), dtype=int64).\n",
            "[Parallel(n_jobs=-1)]: Done 100 tasks      | elapsed: 939.9min\n",
            "Memmapping (shape=(57000, 40), dtype=float64) to old file /dev/shm/joblib_memmapping_folder_21092_4725396717/21092-140153391640704-c9a8d23ef754485f89e5f29ea6de7703.pkl\n",
            "Pickling array (shape=(57000,), dtype=int64).\n",
            "Pickling array (shape=(57000,), dtype=int64).\n",
            "Pickling array (shape=(57000,), dtype=int64).\n",
            "Pickling array (shape=(38000,), dtype=int64).\n",
            "Pickling array (shape=(19000,), dtype=int64).\n",
            "[Parallel(n_jobs=-1)]: Done 101 tasks      | elapsed: 974.2min\n",
            "Memmapping (shape=(57000, 40), dtype=float64) to old file /dev/shm/joblib_memmapping_folder_21092_4725396717/21092-140153391640704-c9a8d23ef754485f89e5f29ea6de7703.pkl\n",
            "Pickling array (shape=(57000,), dtype=int64).\n",
            "Pickling array (shape=(57000,), dtype=int64).\n",
            "Pickling array (shape=(57000,), dtype=int64).\n",
            "Pickling array (shape=(38000,), dtype=int64).\n",
            "Pickling array (shape=(19000,), dtype=int64).\n",
            "[Parallel(n_jobs=-1)]: Done 102 tasks      | elapsed: 977.5min\n",
            "Memmapping (shape=(57000, 40), dtype=float64) to old file /dev/shm/joblib_memmapping_folder_21092_4725396717/21092-140153391640704-c9a8d23ef754485f89e5f29ea6de7703.pkl\n",
            "Pickling array (shape=(57000,), dtype=int64).\n",
            "Pickling array (shape=(57000,), dtype=int64).\n",
            "Pickling array (shape=(57000,), dtype=int64).\n",
            "Pickling array (shape=(38000,), dtype=int64).\n",
            "Pickling array (shape=(19000,), dtype=int64).\n",
            "[Parallel(n_jobs=-1)]: Done 103 tasks      | elapsed: 978.5min\n",
            "Memmapping (shape=(57000, 40), dtype=float64) to old file /dev/shm/joblib_memmapping_folder_21092_4725396717/21092-140153391640704-c9a8d23ef754485f89e5f29ea6de7703.pkl\n",
            "Pickling array (shape=(57000,), dtype=int64).\n",
            "Pickling array (shape=(57000,), dtype=int64).\n",
            "Pickling array (shape=(57000,), dtype=int64).\n",
            "Pickling array (shape=(38000,), dtype=int64).\n",
            "Pickling array (shape=(19000,), dtype=int64).\n",
            "[Parallel(n_jobs=-1)]: Done 104 tasks      | elapsed: 980.1min\n",
            "Memmapping (shape=(57000, 40), dtype=float64) to old file /dev/shm/joblib_memmapping_folder_21092_4725396717/21092-140153391640704-c9a8d23ef754485f89e5f29ea6de7703.pkl\n",
            "Pickling array (shape=(57000,), dtype=int64).\n",
            "Pickling array (shape=(57000,), dtype=int64).\n",
            "Pickling array (shape=(57000,), dtype=int64).\n",
            "Pickling array (shape=(38000,), dtype=int64).\n",
            "Pickling array (shape=(19000,), dtype=int64).\n",
            "[Parallel(n_jobs=-1)]: Done 105 tasks      | elapsed: 1012.5min\n",
            "Memmapping (shape=(57000, 40), dtype=float64) to old file /dev/shm/joblib_memmapping_folder_21092_4725396717/21092-140153391640704-c9a8d23ef754485f89e5f29ea6de7703.pkl\n",
            "Pickling array (shape=(57000,), dtype=int64).\n",
            "Pickling array (shape=(57000,), dtype=int64).\n",
            "Pickling array (shape=(57000,), dtype=int64).\n",
            "Pickling array (shape=(38000,), dtype=int64).\n",
            "Pickling array (shape=(19000,), dtype=int64).\n",
            "[Parallel(n_jobs=-1)]: Done 106 tasks      | elapsed: 1015.8min\n",
            "Memmapping (shape=(57000, 40), dtype=float64) to old file /dev/shm/joblib_memmapping_folder_21092_4725396717/21092-140153391640704-c9a8d23ef754485f89e5f29ea6de7703.pkl\n",
            "Pickling array (shape=(57000,), dtype=int64).\n",
            "Pickling array (shape=(57000,), dtype=int64).\n",
            "Pickling array (shape=(57000,), dtype=int64).\n",
            "Pickling array (shape=(38000,), dtype=int64).\n",
            "Pickling array (shape=(19000,), dtype=int64).\n",
            "[Parallel(n_jobs=-1)]: Done 107 tasks      | elapsed: 1016.8min\n",
            "Memmapping (shape=(57000, 40), dtype=float64) to old file /dev/shm/joblib_memmapping_folder_21092_4725396717/21092-140153391640704-c9a8d23ef754485f89e5f29ea6de7703.pkl\n",
            "Pickling array (shape=(57000,), dtype=int64).\n",
            "Pickling array (shape=(57000,), dtype=int64).\n",
            "Pickling array (shape=(57000,), dtype=int64).\n",
            "Pickling array (shape=(38000,), dtype=int64).\n",
            "Pickling array (shape=(19000,), dtype=int64).\n",
            "[Parallel(n_jobs=-1)]: Done 108 tasks      | elapsed: 1018.6min\n",
            "Memmapping (shape=(57000, 40), dtype=float64) to old file /dev/shm/joblib_memmapping_folder_21092_4725396717/21092-140153391640704-c9a8d23ef754485f89e5f29ea6de7703.pkl\n",
            "Pickling array (shape=(57000,), dtype=int64).\n",
            "Pickling array (shape=(57000,), dtype=int64).\n",
            "Pickling array (shape=(57000,), dtype=int64).\n",
            "Pickling array (shape=(38000,), dtype=int64).\n",
            "Pickling array (shape=(19000,), dtype=int64).\n",
            "[Parallel(n_jobs=-1)]: Done 109 tasks      | elapsed: 1049.3min\n",
            "Memmapping (shape=(57000, 40), dtype=float64) to old file /dev/shm/joblib_memmapping_folder_21092_4725396717/21092-140153391640704-c9a8d23ef754485f89e5f29ea6de7703.pkl\n",
            "Pickling array (shape=(57000,), dtype=int64).\n",
            "Pickling array (shape=(57000,), dtype=int64).\n",
            "Pickling array (shape=(57000,), dtype=int64).\n",
            "Pickling array (shape=(38000,), dtype=int64).\n",
            "Pickling array (shape=(19000,), dtype=int64).\n",
            "[Parallel(n_jobs=-1)]: Done 110 tasks      | elapsed: 1052.0min\n",
            "Memmapping (shape=(57000, 40), dtype=float64) to old file /dev/shm/joblib_memmapping_folder_21092_4725396717/21092-140153391640704-c9a8d23ef754485f89e5f29ea6de7703.pkl\n",
            "Pickling array (shape=(57000,), dtype=int64).\n",
            "Pickling array (shape=(57000,), dtype=int64).\n",
            "Pickling array (shape=(57000,), dtype=int64).\n",
            "Pickling array (shape=(38000,), dtype=int64).\n",
            "Pickling array (shape=(19000,), dtype=int64).\n",
            "[Parallel(n_jobs=-1)]: Done 111 tasks      | elapsed: 1052.9min\n",
            "Memmapping (shape=(57000, 40), dtype=float64) to old file /dev/shm/joblib_memmapping_folder_21092_4725396717/21092-140153391640704-c9a8d23ef754485f89e5f29ea6de7703.pkl\n",
            "Pickling array (shape=(57000,), dtype=int64).\n",
            "Pickling array (shape=(57000,), dtype=int64).\n",
            "Pickling array (shape=(57000,), dtype=int64).\n",
            "Pickling array (shape=(38000,), dtype=int64).\n",
            "Pickling array (shape=(19000,), dtype=int64).\n",
            "[Parallel(n_jobs=-1)]: Done 112 tasks      | elapsed: 1054.0min\n",
            "Memmapping (shape=(57000, 40), dtype=float64) to old file /dev/shm/joblib_memmapping_folder_21092_4725396717/21092-140153391640704-c9a8d23ef754485f89e5f29ea6de7703.pkl\n",
            "Pickling array (shape=(57000,), dtype=int64).\n",
            "Pickling array (shape=(57000,), dtype=int64).\n",
            "Pickling array (shape=(57000,), dtype=int64).\n",
            "Pickling array (shape=(38000,), dtype=int64).\n",
            "Pickling array (shape=(19000,), dtype=int64).\n",
            "[Parallel(n_jobs=-1)]: Done 113 tasks      | elapsed: 1086.7min\n",
            "Memmapping (shape=(57000, 40), dtype=float64) to old file /dev/shm/joblib_memmapping_folder_21092_4725396717/21092-140153391640704-c9a8d23ef754485f89e5f29ea6de7703.pkl\n",
            "Pickling array (shape=(57000,), dtype=int64).\n",
            "Pickling array (shape=(57000,), dtype=int64).\n",
            "Pickling array (shape=(57000,), dtype=int64).\n",
            "Pickling array (shape=(38000,), dtype=int64).\n",
            "Pickling array (shape=(19000,), dtype=int64).\n",
            "[Parallel(n_jobs=-1)]: Done 114 tasks      | elapsed: 1089.2min\n",
            "Memmapping (shape=(57000, 40), dtype=float64) to old file /dev/shm/joblib_memmapping_folder_21092_4725396717/21092-140153391640704-c9a8d23ef754485f89e5f29ea6de7703.pkl\n",
            "Pickling array (shape=(57000,), dtype=int64).\n",
            "Pickling array (shape=(57000,), dtype=int64).\n",
            "Pickling array (shape=(57000,), dtype=int64).\n",
            "Pickling array (shape=(38000,), dtype=int64).\n",
            "Pickling array (shape=(19000,), dtype=int64).\n",
            "[Parallel(n_jobs=-1)]: Done 115 tasks      | elapsed: 1090.1min\n",
            "Memmapping (shape=(57000, 40), dtype=float64) to old file /dev/shm/joblib_memmapping_folder_21092_4725396717/21092-140153391640704-c9a8d23ef754485f89e5f29ea6de7703.pkl\n",
            "Pickling array (shape=(57000,), dtype=int64).\n",
            "Pickling array (shape=(57000,), dtype=int64).\n",
            "Pickling array (shape=(57000,), dtype=int64).\n",
            "Pickling array (shape=(38000,), dtype=int64).\n",
            "Pickling array (shape=(19000,), dtype=int64).\n",
            "[Parallel(n_jobs=-1)]: Done 116 tasks      | elapsed: 1091.3min\n",
            "Memmapping (shape=(57000, 40), dtype=float64) to old file /dev/shm/joblib_memmapping_folder_21092_4725396717/21092-140153391640704-c9a8d23ef754485f89e5f29ea6de7703.pkl\n",
            "Pickling array (shape=(57000,), dtype=int64).\n",
            "Pickling array (shape=(57000,), dtype=int64).\n",
            "Pickling array (shape=(57000,), dtype=int64).\n",
            "Pickling array (shape=(38000,), dtype=int64).\n",
            "Pickling array (shape=(19000,), dtype=int64).\n",
            "[Parallel(n_jobs=-1)]: Done 117 tasks      | elapsed: 1123.0min\n",
            "Memmapping (shape=(57000, 40), dtype=float64) to old file /dev/shm/joblib_memmapping_folder_21092_4725396717/21092-140153391640704-c9a8d23ef754485f89e5f29ea6de7703.pkl\n",
            "Pickling array (shape=(57000,), dtype=int64).\n",
            "Pickling array (shape=(57000,), dtype=int64).\n",
            "Pickling array (shape=(57000,), dtype=int64).\n",
            "Pickling array (shape=(38000,), dtype=int64).\n",
            "Pickling array (shape=(19000,), dtype=int64).\n",
            "[Parallel(n_jobs=-1)]: Done 118 tasks      | elapsed: 1125.8min\n",
            "Memmapping (shape=(57000, 40), dtype=float64) to old file /dev/shm/joblib_memmapping_folder_21092_4725396717/21092-140153391640704-c9a8d23ef754485f89e5f29ea6de7703.pkl\n",
            "Pickling array (shape=(57000,), dtype=int64).\n",
            "Pickling array (shape=(57000,), dtype=int64).\n",
            "Pickling array (shape=(57000,), dtype=int64).\n",
            "Pickling array (shape=(38000,), dtype=int64).\n",
            "Pickling array (shape=(19000,), dtype=int64).\n",
            "[Parallel(n_jobs=-1)]: Done 119 tasks      | elapsed: 1126.8min\n",
            "Memmapping (shape=(57000, 40), dtype=float64) to old file /dev/shm/joblib_memmapping_folder_21092_4725396717/21092-140153391640704-c9a8d23ef754485f89e5f29ea6de7703.pkl\n",
            "Pickling array (shape=(57000,), dtype=int64).\n",
            "Pickling array (shape=(57000,), dtype=int64).\n",
            "Pickling array (shape=(57000,), dtype=int64).\n",
            "Pickling array (shape=(38000,), dtype=int64).\n",
            "Pickling array (shape=(19000,), dtype=int64).\n",
            "[Parallel(n_jobs=-1)]: Done 120 tasks      | elapsed: 1127.4min\n",
            "Memmapping (shape=(57000, 40), dtype=float64) to old file /dev/shm/joblib_memmapping_folder_21092_4725396717/21092-140153391640704-c9a8d23ef754485f89e5f29ea6de7703.pkl\n",
            "Pickling array (shape=(57000,), dtype=int64).\n",
            "Pickling array (shape=(57000,), dtype=int64).\n",
            "Pickling array (shape=(57000,), dtype=int64).\n",
            "Pickling array (shape=(38000,), dtype=int64).\n",
            "Pickling array (shape=(19000,), dtype=int64).\n",
            "[Parallel(n_jobs=-1)]: Done 121 tasks      | elapsed: 1161.7min\n",
            "Memmapping (shape=(57000, 40), dtype=float64) to old file /dev/shm/joblib_memmapping_folder_21092_4725396717/21092-140153391640704-c9a8d23ef754485f89e5f29ea6de7703.pkl\n",
            "Pickling array (shape=(57000,), dtype=int64).\n",
            "Pickling array (shape=(57000,), dtype=int64).\n",
            "Pickling array (shape=(57000,), dtype=int64).\n",
            "Pickling array (shape=(38000,), dtype=int64).\n",
            "Pickling array (shape=(19000,), dtype=int64).\n",
            "[Parallel(n_jobs=-1)]: Done 122 tasks      | elapsed: 1164.3min\n",
            "Memmapping (shape=(57000, 40), dtype=float64) to old file /dev/shm/joblib_memmapping_folder_21092_4725396717/21092-140153391640704-c9a8d23ef754485f89e5f29ea6de7703.pkl\n",
            "Pickling array (shape=(57000,), dtype=int64).\n",
            "Pickling array (shape=(57000,), dtype=int64).\n",
            "Pickling array (shape=(57000,), dtype=int64).\n",
            "Pickling array (shape=(38000,), dtype=int64).\n",
            "Pickling array (shape=(19000,), dtype=int64).\n",
            "[Parallel(n_jobs=-1)]: Done 123 tasks      | elapsed: 1165.1min\n",
            "Memmapping (shape=(57000, 40), dtype=float64) to old file /dev/shm/joblib_memmapping_folder_21092_4725396717/21092-140153391640704-c9a8d23ef754485f89e5f29ea6de7703.pkl\n",
            "Pickling array (shape=(57000,), dtype=int64).\n",
            "Pickling array (shape=(57000,), dtype=int64).\n",
            "Pickling array (shape=(57000,), dtype=int64).\n",
            "Pickling array (shape=(38000,), dtype=int64).\n",
            "Pickling array (shape=(19000,), dtype=int64).\n",
            "[Parallel(n_jobs=-1)]: Done 124 tasks      | elapsed: 1165.7min\n",
            "Memmapping (shape=(57000, 40), dtype=float64) to old file /dev/shm/joblib_memmapping_folder_21092_4725396717/21092-140153391640704-c9a8d23ef754485f89e5f29ea6de7703.pkl\n",
            "Pickling array (shape=(57000,), dtype=int64).\n",
            "Pickling array (shape=(57000,), dtype=int64).\n",
            "Pickling array (shape=(57000,), dtype=int64).\n",
            "Pickling array (shape=(38000,), dtype=int64).\n",
            "Pickling array (shape=(19000,), dtype=int64).\n",
            "[Parallel(n_jobs=-1)]: Done 125 tasks      | elapsed: 1200.1min\n",
            "Memmapping (shape=(57000, 40), dtype=float64) to old file /dev/shm/joblib_memmapping_folder_21092_4725396717/21092-140153391640704-c9a8d23ef754485f89e5f29ea6de7703.pkl\n",
            "Pickling array (shape=(57000,), dtype=int64).\n",
            "Pickling array (shape=(57000,), dtype=int64).\n",
            "Pickling array (shape=(57000,), dtype=int64).\n",
            "Pickling array (shape=(38000,), dtype=int64).\n",
            "Pickling array (shape=(19000,), dtype=int64).\n",
            "[Parallel(n_jobs=-1)]: Done 126 tasks      | elapsed: 1203.2min\n",
            "Memmapping (shape=(57000, 40), dtype=float64) to old file /dev/shm/joblib_memmapping_folder_21092_4725396717/21092-140153391640704-c9a8d23ef754485f89e5f29ea6de7703.pkl\n",
            "Pickling array (shape=(57000,), dtype=int64).\n",
            "Pickling array (shape=(57000,), dtype=int64).\n",
            "Pickling array (shape=(57000,), dtype=int64).\n",
            "Pickling array (shape=(38000,), dtype=int64).\n",
            "Pickling array (shape=(19000,), dtype=int64).\n",
            "[Parallel(n_jobs=-1)]: Done 127 tasks      | elapsed: 1204.8min\n",
            "Memmapping (shape=(57000, 40), dtype=float64) to old file /dev/shm/joblib_memmapping_folder_21092_4725396717/21092-140153391640704-c9a8d23ef754485f89e5f29ea6de7703.pkl\n",
            "Pickling array (shape=(57000,), dtype=int64).\n",
            "Pickling array (shape=(57000,), dtype=int64).\n",
            "Pickling array (shape=(57000,), dtype=int64).\n",
            "Pickling array (shape=(38000,), dtype=int64).\n",
            "Pickling array (shape=(19000,), dtype=int64).\n",
            "[Parallel(n_jobs=-1)]: Done 128 tasks      | elapsed: 1205.5min\n",
            "Memmapping (shape=(57000, 40), dtype=float64) to old file /dev/shm/joblib_memmapping_folder_21092_4725396717/21092-140153391640704-c9a8d23ef754485f89e5f29ea6de7703.pkl\n",
            "Pickling array (shape=(57000,), dtype=int64).\n",
            "Pickling array (shape=(57000,), dtype=int64).\n",
            "Pickling array (shape=(57000,), dtype=int64).\n",
            "Pickling array (shape=(38000,), dtype=int64).\n",
            "Pickling array (shape=(19000,), dtype=int64).\n",
            "[Parallel(n_jobs=-1)]: Done 129 tasks      | elapsed: 1239.9min\n",
            "Memmapping (shape=(57000, 40), dtype=float64) to old file /dev/shm/joblib_memmapping_folder_21092_4725396717/21092-140153391640704-c9a8d23ef754485f89e5f29ea6de7703.pkl\n",
            "Pickling array (shape=(57000,), dtype=int64).\n",
            "Pickling array (shape=(57000,), dtype=int64).\n",
            "Pickling array (shape=(57000,), dtype=int64).\n",
            "Pickling array (shape=(38000,), dtype=int64).\n",
            "Pickling array (shape=(19000,), dtype=int64).\n",
            "[Parallel(n_jobs=-1)]: Done 130 tasks      | elapsed: 1242.0min\n",
            "Memmapping (shape=(57000, 40), dtype=float64) to old file /dev/shm/joblib_memmapping_folder_21092_4725396717/21092-140153391640704-c9a8d23ef754485f89e5f29ea6de7703.pkl\n",
            "Pickling array (shape=(57000,), dtype=int64).\n",
            "Pickling array (shape=(57000,), dtype=int64).\n",
            "Pickling array (shape=(57000,), dtype=int64).\n",
            "Pickling array (shape=(38000,), dtype=int64).\n",
            "Pickling array (shape=(19000,), dtype=int64).\n",
            "[Parallel(n_jobs=-1)]: Done 131 tasks      | elapsed: 1244.0min\n",
            "Memmapping (shape=(57000, 40), dtype=float64) to old file /dev/shm/joblib_memmapping_folder_21092_4725396717/21092-140153391640704-c9a8d23ef754485f89e5f29ea6de7703.pkl\n",
            "Pickling array (shape=(57000,), dtype=int64).\n",
            "Pickling array (shape=(57000,), dtype=int64).\n",
            "Pickling array (shape=(57000,), dtype=int64).\n",
            "Pickling array (shape=(38000,), dtype=int64).\n",
            "Pickling array (shape=(19000,), dtype=int64).\n",
            "[Parallel(n_jobs=-1)]: Done 132 tasks      | elapsed: 1244.4min\n",
            "Memmapping (shape=(57000, 40), dtype=float64) to old file /dev/shm/joblib_memmapping_folder_21092_4725396717/21092-140153391640704-c9a8d23ef754485f89e5f29ea6de7703.pkl\n",
            "Pickling array (shape=(57000,), dtype=int64).\n",
            "Pickling array (shape=(57000,), dtype=int64).\n",
            "Pickling array (shape=(57000,), dtype=int64).\n",
            "Pickling array (shape=(38000,), dtype=int64).\n",
            "Pickling array (shape=(19000,), dtype=int64).\n",
            "[Parallel(n_jobs=-1)]: Done 133 tasks      | elapsed: 1279.6min\n",
            "Memmapping (shape=(57000, 40), dtype=float64) to old file /dev/shm/joblib_memmapping_folder_21092_4725396717/21092-140153391640704-c9a8d23ef754485f89e5f29ea6de7703.pkl\n",
            "Pickling array (shape=(57000,), dtype=int64).\n",
            "Pickling array (shape=(57000,), dtype=int64).\n",
            "Pickling array (shape=(57000,), dtype=int64).\n",
            "Pickling array (shape=(38000,), dtype=int64).\n",
            "Pickling array (shape=(19000,), dtype=int64).\n",
            "[Parallel(n_jobs=-1)]: Done 134 tasks      | elapsed: 1281.9min\n",
            "Memmapping (shape=(57000, 40), dtype=float64) to old file /dev/shm/joblib_memmapping_folder_21092_4725396717/21092-140153391640704-c9a8d23ef754485f89e5f29ea6de7703.pkl\n",
            "Pickling array (shape=(57000,), dtype=int64).\n",
            "Pickling array (shape=(57000,), dtype=int64).\n",
            "Pickling array (shape=(57000,), dtype=int64).\n",
            "Pickling array (shape=(38000,), dtype=int64).\n",
            "Pickling array (shape=(19000,), dtype=int64).\n",
            "[Parallel(n_jobs=-1)]: Done 135 tasks      | elapsed: 1283.6min\n",
            "Memmapping (shape=(57000, 40), dtype=float64) to old file /dev/shm/joblib_memmapping_folder_21092_4725396717/21092-140153391640704-c9a8d23ef754485f89e5f29ea6de7703.pkl\n",
            "Pickling array (shape=(57000,), dtype=int64).\n",
            "Pickling array (shape=(57000,), dtype=int64).\n",
            "Pickling array (shape=(57000,), dtype=int64).\n",
            "Pickling array (shape=(38000,), dtype=int64).\n",
            "Pickling array (shape=(19000,), dtype=int64).\n",
            "[Parallel(n_jobs=-1)]: Done 136 tasks      | elapsed: 1284.1min\n",
            "Memmapping (shape=(57000, 40), dtype=float64) to old file /dev/shm/joblib_memmapping_folder_21092_4725396717/21092-140153391640704-c9a8d23ef754485f89e5f29ea6de7703.pkl\n",
            "Pickling array (shape=(57000,), dtype=int64).\n",
            "Pickling array (shape=(57000,), dtype=int64).\n",
            "Pickling array (shape=(57000,), dtype=int64).\n",
            "Pickling array (shape=(38000,), dtype=int64).\n",
            "Pickling array (shape=(19000,), dtype=int64).\n",
            "[Parallel(n_jobs=-1)]: Done 137 tasks      | elapsed: 1319.3min\n",
            "Memmapping (shape=(57000, 40), dtype=float64) to old file /dev/shm/joblib_memmapping_folder_21092_4725396717/21092-140153391640704-c9a8d23ef754485f89e5f29ea6de7703.pkl\n",
            "Pickling array (shape=(57000,), dtype=int64).\n",
            "Pickling array (shape=(57000,), dtype=int64).\n",
            "Pickling array (shape=(57000,), dtype=int64).\n",
            "Pickling array (shape=(38000,), dtype=int64).\n",
            "Pickling array (shape=(19000,), dtype=int64).\n",
            "[Parallel(n_jobs=-1)]: Done 138 out of 144 | elapsed: 1322.1min remaining: 57.5min\n",
            "Memmapping (shape=(57000, 40), dtype=float64) to old file /dev/shm/joblib_memmapping_folder_21092_4725396717/21092-140153391640704-c9a8d23ef754485f89e5f29ea6de7703.pkl\n",
            "Pickling array (shape=(57000,), dtype=int64).\n",
            "Pickling array (shape=(57000,), dtype=int64).\n",
            "Pickling array (shape=(57000,), dtype=int64).\n",
            "Pickling array (shape=(38000,), dtype=int64).\n",
            "Pickling array (shape=(19000,), dtype=int64).\n",
            "[Parallel(n_jobs=-1)]: Done 139 out of 144 | elapsed: 1324.0min remaining: 47.6min\n",
            "Memmapping (shape=(57000, 40), dtype=float64) to old file /dev/shm/joblib_memmapping_folder_21092_4725396717/21092-140153391640704-c9a8d23ef754485f89e5f29ea6de7703.pkl\n",
            "Pickling array (shape=(57000,), dtype=int64).\n",
            "Pickling array (shape=(57000,), dtype=int64).\n",
            "Pickling array (shape=(57000,), dtype=int64).\n",
            "Pickling array (shape=(38000,), dtype=int64).\n",
            "Pickling array (shape=(19000,), dtype=int64).\n",
            "[Parallel(n_jobs=-1)]: Done 140 out of 144 | elapsed: 1324.7min remaining: 37.8min\n",
            "[Parallel(n_jobs=-1)]: Done 141 out of 144 | elapsed: 1358.2min remaining: 28.9min\n",
            "[Parallel(n_jobs=-1)]: Done 142 out of 144 | elapsed: 1360.2min remaining: 19.2min\n",
            "[Parallel(n_jobs=-1)]: Done 144 out of 144 | elapsed: 1361.9min remaining:    0.0s\n",
            "[Parallel(n_jobs=-1)]: Done 144 out of 144 | elapsed: 1361.9min finished\n"
          ]
        },
        {
          "output_type": "execute_result",
          "execution_count": 84,
          "data": {
            "text/plain": "GridSearchCV(cv=3, error_score=nan,\n             estimator=StackingClassifier(cv=None,\n                                          estimators=[('knn',\n                                                       KNeighborsClassifier(algorithm='auto',\n                                                                            leaf_size=30,\n                                                                            metric='minkowski',\n                                                                            metric_params=None,\n                                                                            n_jobs=-1,\n                                                                            n_neighbors=5,\n                                                                            p=2,\n                                                                            weights='uniform')),\n                                                      ('rf',\n                                                       RandomForestClassifier(bootstrap=True,\n                                                                              ccp_alpha=0.0,\n                                                                              class_weight=None,\n                                                                              criterion='gini',\n                                                                              max_depth=None,\n                                                                              max_features='a...\n                                                                                                      verbosity=1))],\n                                                                           flatten_transform=True,\n                                                                           n_jobs=None,\n                                                                           voting='soft',\n                                                                           weights=[1,\n                                                                                    1,\n                                                                                    4]),\n                                          n_jobs=None, passthrough=False,\n                                          stack_method='auto', verbose=0),\n             iid='deprecated', n_jobs=-1,\n             param_grid={'knn__n_neighbors': [5, 10, 20, 30],\n                         'rf__n_estimators': [5, 50, 100, 150],\n                         'xgb__eta': [0.01, 0.1, 0.2]},\n             pre_dispatch='2*n_jobs', refit=True, return_train_score=False,\n             scoring=None, verbose=1000)"
          },
          "metadata": {}
        }
      ],
      "execution_count": 84,
      "metadata": {
        "gather": {
          "logged": 1629200343331
        }
      }
    },
    {
      "cell_type": "code",
      "source": [
        "gs.best_params_"
      ],
      "outputs": [
        {
          "output_type": "execute_result",
          "execution_count": 85,
          "data": {
            "text/plain": "{'knn__n_neighbors': 5, 'rf__n_estimators': 150, 'xgb__eta': 0.2}"
          },
          "metadata": {}
        }
      ],
      "execution_count": 85,
      "metadata": {
        "collapsed": true,
        "jupyter": {
          "source_hidden": false,
          "outputs_hidden": false
        },
        "nteract": {
          "transient": {
            "deleting": false
          }
        },
        "gather": {
          "logged": 1629200522323
        }
      }
    },
    {
      "cell_type": "code",
      "source": [
        "gs.best_score_"
      ],
      "outputs": [
        {
          "output_type": "execute_result",
          "execution_count": 86,
          "data": {
            "text/plain": "0.8715964912280701"
          },
          "metadata": {}
        }
      ],
      "execution_count": 86,
      "metadata": {
        "collapsed": true,
        "jupyter": {
          "source_hidden": false,
          "outputs_hidden": false
        },
        "nteract": {
          "transient": {
            "deleting": false
          }
        },
        "gather": {
          "logged": 1629200532294
        }
      }
    },
    {
      "cell_type": "code",
      "source": [
        "from sklearn.metrics import confusion_matrix\n",
        "from sklearn.model_selection import cross_val_predict\n",
        "\n",
        "y_train_pred = cross_val_predict(voting_clf,x_train,y_train,cv=3)\n",
        "conf_mx = confusion_matrix(y_train, y_train_pred)"
      ],
      "outputs": [],
      "execution_count": null,
      "metadata": {}
    },
    {
      "cell_type": "code",
      "source": [
        "output_labels = [\"top\", \"Trouser\", \"Pullover\", \"Dress\", \"Coat\", \"Sandal\", \"Shirt\", \"Sneaker\", \"Bag\", \"Ankle boot\"]\n",
        "\n",
        "with io.capture_output() as captured:\n",
        "    row_sums = conf_mx.sum(axis=1, keepdims=True)\n",
        "    norm_conf_mx = conf_mx / row_sums\n",
        "\n",
        "    figure = plt.figure(figsize=(12, 10)) \n",
        "    axes = figure.add_subplot(111) \n",
        "\n",
        "    np.fill_diagonal(norm_conf_mx, 0)\n",
        "    caxes = axes.matshow(norm_conf_mx, cmap=plt.cm.gray)\n",
        "    figure.colorbar(caxes) \n",
        "\n",
        "    axes.set_xticklabels(output_labels) \n",
        "    axes.set_xticks(np.arange(10))\n",
        "    axes.set_yticks(np.arange(10))\n",
        "    axes.set_yticklabels(output_labels) \n",
        "    \n",
        "plt.show()"
      ],
      "outputs": [],
      "execution_count": null,
      "metadata": {}
    },
    {
      "cell_type": "code",
      "source": [
        "from sklearn.metrics import classification_report\n",
        "print(classification_report(y_validate,voting_clf.predict(x_validate_reduced)))"
      ],
      "outputs": [],
      "execution_count": null,
      "metadata": {}
    }
  ],
  "metadata": {
    "orig_nbformat": 4,
    "kernelspec": {
      "name": "python3",
      "language": "python",
      "display_name": "Python 3"
    },
    "interpreter": {
      "hash": "f50bd5474255f82aa829301912ce59e29110123be660cf8d7583f66a20371684"
    },
    "language_info": {
      "name": "python",
      "version": "3.6.9",
      "mimetype": "text/x-python",
      "codemirror_mode": {
        "name": "ipython",
        "version": 3
      },
      "pygments_lexer": "ipython3",
      "nbconvert_exporter": "python",
      "file_extension": ".py"
    },
    "kernel_info": {
      "name": "python3"
    },
    "microsoft": {
      "host": {
        "AzureML": {
          "notebookHasBeenCompleted": true
        }
      }
    },
    "nteract": {
      "version": "nteract-front-end@1.0.0"
    }
  },
  "nbformat": 4,
  "nbformat_minor": 2
}
{
 "cells": [
  {
   "cell_type": "code",
   "execution_count": 3,
   "source": [
    "import pandas as pd\n",
    "import cv2 as cv\n",
    "import sys \n",
    "\n",
    "import sklearn\n",
    "import numpy as np \n",
    "import os\n",
    "import pandas as pd\n",
    "import time\n",
    "\n",
    "import warnings\n",
    "warnings.filterwarnings('ignore')\n",
    "\n",
    "%matplotlib inline\n",
    "import matplotlib as mpl\n",
    "import matplotlib.pyplot as plt\n",
    "\n",
    "from IPython.utils import io"
   ],
   "outputs": [],
   "metadata": {}
  },
  {
   "cell_type": "code",
   "execution_count": null,
   "source": [
    "sync = pd.read_csv('data/hands/Training/Shahar Terner/Sachar636771046527112972Sync.csv')\n",
    "spot = pd.read_csv('data/hands/Training/Shahar Terner/Sachar636771045591258071Spontan.csv')\n",
    "alone = pd.read_csv('data/hands/Training/Shahar Terner/Sachar636771047408504303Alone.csv')\n",
    "alone_cmp = pd.read_csv('data/hands/HandRight.csv')\n"
   ],
   "outputs": [],
   "metadata": {}
  },
  {
   "cell_type": "code",
   "execution_count": null,
   "source": [
    "alone_cmp.head()"
   ],
   "outputs": [],
   "metadata": {}
  },
  {
   "cell_type": "code",
   "execution_count": null,
   "source": [
    "alone.head()"
   ],
   "outputs": [],
   "metadata": {}
  },
  {
   "cell_type": "code",
   "execution_count": null,
   "source": [
    "alone_cmp['Time'] = alone_cmp['Time'] + (alone.iloc[0,0] - alone_cmp.iloc[0,0])\n",
    "alone_cmp.head()"
   ],
   "outputs": [],
   "metadata": {}
  },
  {
   "cell_type": "code",
   "execution_count": null,
   "source": [
    "sync = sync.set_index('Time')\n",
    "spot = spot.set_index('Time')\n",
    "alone = alone.set_index('Time')\n",
    "alone_cmp = alone_cmp.set_index('Time')"
   ],
   "outputs": [],
   "metadata": {}
  },
  {
   "cell_type": "code",
   "execution_count": null,
   "source": [
    "sync.describe()"
   ],
   "outputs": [],
   "metadata": {}
  },
  {
   "cell_type": "code",
   "execution_count": null,
   "source": [
    "sync.info()"
   ],
   "outputs": [],
   "metadata": {}
  },
  {
   "cell_type": "code",
   "execution_count": null,
   "source": [
    "sync.head()"
   ],
   "outputs": [],
   "metadata": {}
  },
  {
   "cell_type": "code",
   "execution_count": null,
   "source": [
    "left_s = sync[sync[' Hand Type'] == 'left']\n",
    "right_s = sync[sync[' Hand Type'] == 'right']\n",
    "\n",
    "left_sp = spot[spot[' Hand Type'] == 'left']\n",
    "right_sp = spot[spot[' Hand Type'] == 'right']"
   ],
   "outputs": [],
   "metadata": {}
  },
  {
   "cell_type": "code",
   "execution_count": null,
   "source": [
    "plt.figure()\n",
    "i = 1\n",
    "for x in range(1,54 ,3):\n",
    "    plt.subplot(18,3,x)\n",
    "    left_s.iloc[:,i+2].plot(figsize=(25,100),label='left')\n",
    "    right_s.iloc[:,i+2].plot(figsize=(25,100),label='right')\n",
    "    plt.title(\"sync {}\".format(left_s.columns[i+2]))\n",
    "    plt.legend()\n",
    "\n",
    "    plt.subplot(18,3,x + 1)\n",
    "    left_sp.iloc[:,i+2].plot(figsize=(25,100),label='left')\n",
    "    right_sp.iloc[:,i+2].plot(figsize=(25,100),label='right')\n",
    "    plt.title(\"spot {}\".format(left_s.columns[i+2]))\n",
    "    plt.legend()\n",
    "    \n",
    "    plt.subplot(18,3,x + 2)\n",
    "    alone.iloc[:,i+2].plot(figsize=(25,100),label='left')\n",
    "    alone_cmp.iloc[:,i+2].plot(figsize=(25,100),label='right')\n",
    "    plt.title(\"alone {}\".format(left_s.columns[i+2]))\n",
    "    plt.legend()\n",
    "\n",
    "    i = i + 1\n",
    "plt.show()\n",
    "\n"
   ],
   "outputs": [],
   "metadata": {}
  },
  {
   "cell_type": "markdown",
   "source": [
    "## Loading the data"
   ],
   "metadata": {}
  },
  {
   "cell_type": "code",
   "execution_count": 42,
   "source": [
    "right_hand = pd.read_csv('data/hands/HandRight.csv') \n",
    "\n",
    "right_hand[\" Hand Type\"] = \"right\"\n",
    "right_hand = right_hand.dropna()\n",
    "\n",
    "def join_right_hand(df):\n",
    "\n",
    "    right_hand['Time'] = df['Time']\n",
    "    right_hand[' Frame ID'] = df[[' Frame ID']]\n",
    "\n",
    "    frames = [df,right_hand]\n",
    "    df = pd.concat(frames)\n",
    "\n",
    "    df = df.sort_values(' Hand Type').sort_values('Time',kind='stable')\n",
    "    x = df[' Hand Type'].value_counts()\n",
    "    df = df.reset_index().iloc[:x.iloc[1] * 2]\n",
    "    \n",
    "    df[\" # hands\"] = 2\n",
    "\n",
    "    return df"
   ],
   "outputs": [],
   "metadata": {}
  },
  {
   "cell_type": "code",
   "execution_count": 43,
   "source": [
    "def proccess_df(df):\n",
    "    df = df.drop(df[df[\" # hands\"] == 1].index)\n",
    "    df = df.drop('index',axis=1)\n",
    "    return df"
   ],
   "outputs": [],
   "metadata": {}
  },
  {
   "cell_type": "code",
   "execution_count": 36,
   "source": [
    "def load_data(path):\n",
    "    li = []\n",
    "\n",
    "    for subject in os.listdir(path):\n",
    "        for file in os.listdir(path + '/' + subject):\n",
    "            print(path + '/' + subject + '/' + file)\n",
    "            df = pd.read_csv(path + '/' + subject + '/' + file)\n",
    "            if \"Alone\" in file:\n",
    "                df = join_right_hand(df)\n",
    "                df['OUTCOME'] = 0\n",
    "            elif \"Sync\" in file:\n",
    "                df['OUTCOME'] = 1\n",
    "            else:\n",
    "                df['OUTCOME'] = 2\n",
    "\n",
    "            df = proccess_df(df)\n",
    "            li.append(df)\n",
    "\n",
    "    return pd.concat(li)"
   ],
   "outputs": [],
   "metadata": {}
  },
  {
   "cell_type": "code",
   "execution_count": 49,
   "source": [
    "df = load_data('data/hands/Training')\n",
    "df_test = load_data('data/hands/Validation')"
   ],
   "outputs": [
    {
     "output_type": "stream",
     "name": "stdout",
     "text": [
      "data/hands/Training/Shahar Terner/Sachar636771045591258071Spontan.csv 0\n",
      "data/hands/Training/Shahar Terner/Sachar636771047408504303Alone.csv 0\n",
      "data/hands/Training/Shahar Terner/Sachar636771046527112972Sync.csv 0\n",
      "data/hands/Training/Orya Kalmanovitz/OryaB636771082736601528Alone.csv 0\n",
      "data/hands/Training/Orya Kalmanovitz/OryaB636771083605535985Spontan.csv 0\n",
      "data/hands/Training/Orya Kalmanovitz/OryaB636771084494502229Sync.csv 0\n",
      "data/hands/Training/Evyatar Cohen/Evyatar636771053639929594Sync.csv 0\n",
      "data/hands/Training/Evyatar Cohen/Evyatar636771054555711409Alone.csv 0\n",
      "data/hands/Training/Evyatar Cohen/Evyatar636771052727603804Spontan.csv 0\n",
      "data/hands/Training/Shelly Social_Nuero/Shelly636759787508979097Spontan.csv 0\n",
      "data/hands/Training/Shelly Social_Nuero/Shelly636759789526313406Sync.csv 0\n",
      "data/hands/Training/Shelly Social_Nuero/Shelly636759788383205274Alone.csv 0\n",
      "data/hands/Training/Yael Hagai/Yael636771060699529085Sync.csv 0\n",
      "data/hands/Training/Yael Hagai/Yael636771061659067649Alone.csv 0\n",
      "data/hands/Training/Yael Hagai/Yael636771059544754823Spontan.csv 0\n",
      "data/hands/Training/Oriya Social_Nuero/Oriya636759805268396661Alone.csv 0\n",
      "data/hands/Training/Oriya Social_Nuero/Oriya636759804404113837Spontan.csv 0\n",
      "data/hands/Training/Oriya Social_Nuero/Oriya636759806131350399Sync.csv 0\n",
      "data/hands/Training/Nofar Social_Nuero/Nofar636759795182793299Spontan.csv 0\n",
      "data/hands/Training/Nofar Social_Nuero/Nofar636759797397919664Sync.csv 0\n",
      "data/hands/Training/Nofar Social_Nuero/Nofar636759796290435160Alone.csv 0\n",
      "data/hands/Training/Yoel Raz/Yoel636760922573364655Alone.csv 0\n",
      "data/hands/Training/Yoel Raz/Yoel636760921663075813Spontan.csv 0\n",
      "data/hands/Training/Yoel Raz/Yoel636760923490742912Sync.csv 0\n",
      "data/hands/Training/Revital Marbel/Revital636770957038873193Spontan.csv 0\n",
      "data/hands/Training/Revital Marbel/Revital636770957894370062Sync.csv 0\n",
      "data/hands/Training/Revital Marbel/Revital636770955999435879Alone.csv 0\n",
      "data/hands/Validation/Itiel Lab/Itiel636770940701219076Spontan.csv 0\n",
      "data/hands/Validation/Itiel Lab/Itiel636770942529041679Alone.csv 0\n",
      "data/hands/Validation/Itiel Lab/Itiel636770941638547912Sync.csv 0\n",
      "data/hands/Validation/Oded Medina/Oded636754670490266956Spontan.csv 0\n",
      "data/hands/Validation/Oded Medina/Oded636754669540564461Alone.csv 0\n",
      "data/hands/Validation/Oded Medina/Oded636754671560850581Sync.csv 0\n",
      "data/hands/Validation/Mor SHerman/Mor636771064635567065Spontan.csv 0\n",
      "data/hands/Validation/Mor SHerman/Mor636771066407626524Alone.csv 0\n",
      "data/hands/Validation/Mor SHerman/Mor636771065531910215Sync.csv 0\n"
     ]
    }
   ],
   "metadata": {}
  },
  {
   "cell_type": "code",
   "execution_count": 47,
   "source": [
    "df.head()"
   ],
   "outputs": [
    {
     "output_type": "execute_result",
     "data": {
      "text/plain": [
       "       Time   Frame ID  Hand Type   # hands   Position X   Position Y  \\\n",
       "0  379.7184    46329.0      right         2    174.48970     236.7132   \n",
       "1  379.7184    46329.0       left         2    -68.01415     156.5934   \n",
       "2  379.7348    46331.0      right         2    173.27060     238.6520   \n",
       "3  379.7348    46331.0       left         2    -70.25227     160.8049   \n",
       "4  379.7516    46333.0      right         2    172.33350     241.7933   \n",
       "\n",
       "    Position Z   Velocity X   Velocity Y   Velocity Z  ...   Wrist Pos Y  \\\n",
       "0    -34.12203    -84.29025     65.13725    124.30900  ...      194.2103   \n",
       "1    -14.45648   -112.72190    188.78510     61.37488  ...      119.9337   \n",
       "2    -30.50214    -78.89249     98.40533    233.60370  ...      195.5094   \n",
       "3    -13.16562   -120.68820    248.41160     68.05241  ...      120.8761   \n",
       "4    -25.97062    -51.04300    195.62840    287.99430  ...      196.8314   \n",
       "\n",
       "    Wrist Pos Z   Elbow pos X   Elbow Pos Y   Elbow Pos Z   Grab Strenth  \\\n",
       "0      6.415048      351.6485      31.24136     108.23130            0.0   \n",
       "1     34.933900     -160.2634     -96.42902     114.71420            0.0   \n",
       "2      8.037281      357.1137      31.69973     100.64270            0.0   \n",
       "3     35.246690     -156.5777     -96.99940     113.46690            0.0   \n",
       "4      9.881967      359.0114      31.43021      95.73518            0.0   \n",
       "\n",
       "    Grab Angle   Pinch Strength  OUTCOME  index  \n",
       "0     0.413517         0.000000        2    NaN  \n",
       "1     1.152870         0.396940        2    NaN  \n",
       "2     0.265857         0.000000        2    NaN  \n",
       "3     1.191082         0.539377        2    NaN  \n",
       "4     0.232197         0.000000        2    NaN  \n",
       "\n",
       "[5 rows x 24 columns]"
      ],
      "text/html": [
       "<div>\n",
       "<style scoped>\n",
       "    .dataframe tbody tr th:only-of-type {\n",
       "        vertical-align: middle;\n",
       "    }\n",
       "\n",
       "    .dataframe tbody tr th {\n",
       "        vertical-align: top;\n",
       "    }\n",
       "\n",
       "    .dataframe thead th {\n",
       "        text-align: right;\n",
       "    }\n",
       "</style>\n",
       "<table border=\"1\" class=\"dataframe\">\n",
       "  <thead>\n",
       "    <tr style=\"text-align: right;\">\n",
       "      <th></th>\n",
       "      <th>Time</th>\n",
       "      <th>Frame ID</th>\n",
       "      <th>Hand Type</th>\n",
       "      <th># hands</th>\n",
       "      <th>Position X</th>\n",
       "      <th>Position Y</th>\n",
       "      <th>Position Z</th>\n",
       "      <th>Velocity X</th>\n",
       "      <th>Velocity Y</th>\n",
       "      <th>Velocity Z</th>\n",
       "      <th>...</th>\n",
       "      <th>Wrist Pos Y</th>\n",
       "      <th>Wrist Pos Z</th>\n",
       "      <th>Elbow pos X</th>\n",
       "      <th>Elbow Pos Y</th>\n",
       "      <th>Elbow Pos Z</th>\n",
       "      <th>Grab Strenth</th>\n",
       "      <th>Grab Angle</th>\n",
       "      <th>Pinch Strength</th>\n",
       "      <th>OUTCOME</th>\n",
       "      <th>index</th>\n",
       "    </tr>\n",
       "  </thead>\n",
       "  <tbody>\n",
       "    <tr>\n",
       "      <th>0</th>\n",
       "      <td>379.7184</td>\n",
       "      <td>46329.0</td>\n",
       "      <td>right</td>\n",
       "      <td>2</td>\n",
       "      <td>174.48970</td>\n",
       "      <td>236.7132</td>\n",
       "      <td>-34.12203</td>\n",
       "      <td>-84.29025</td>\n",
       "      <td>65.13725</td>\n",
       "      <td>124.30900</td>\n",
       "      <td>...</td>\n",
       "      <td>194.2103</td>\n",
       "      <td>6.415048</td>\n",
       "      <td>351.6485</td>\n",
       "      <td>31.24136</td>\n",
       "      <td>108.23130</td>\n",
       "      <td>0.0</td>\n",
       "      <td>0.413517</td>\n",
       "      <td>0.000000</td>\n",
       "      <td>2</td>\n",
       "      <td>NaN</td>\n",
       "    </tr>\n",
       "    <tr>\n",
       "      <th>1</th>\n",
       "      <td>379.7184</td>\n",
       "      <td>46329.0</td>\n",
       "      <td>left</td>\n",
       "      <td>2</td>\n",
       "      <td>-68.01415</td>\n",
       "      <td>156.5934</td>\n",
       "      <td>-14.45648</td>\n",
       "      <td>-112.72190</td>\n",
       "      <td>188.78510</td>\n",
       "      <td>61.37488</td>\n",
       "      <td>...</td>\n",
       "      <td>119.9337</td>\n",
       "      <td>34.933900</td>\n",
       "      <td>-160.2634</td>\n",
       "      <td>-96.42902</td>\n",
       "      <td>114.71420</td>\n",
       "      <td>0.0</td>\n",
       "      <td>1.152870</td>\n",
       "      <td>0.396940</td>\n",
       "      <td>2</td>\n",
       "      <td>NaN</td>\n",
       "    </tr>\n",
       "    <tr>\n",
       "      <th>2</th>\n",
       "      <td>379.7348</td>\n",
       "      <td>46331.0</td>\n",
       "      <td>right</td>\n",
       "      <td>2</td>\n",
       "      <td>173.27060</td>\n",
       "      <td>238.6520</td>\n",
       "      <td>-30.50214</td>\n",
       "      <td>-78.89249</td>\n",
       "      <td>98.40533</td>\n",
       "      <td>233.60370</td>\n",
       "      <td>...</td>\n",
       "      <td>195.5094</td>\n",
       "      <td>8.037281</td>\n",
       "      <td>357.1137</td>\n",
       "      <td>31.69973</td>\n",
       "      <td>100.64270</td>\n",
       "      <td>0.0</td>\n",
       "      <td>0.265857</td>\n",
       "      <td>0.000000</td>\n",
       "      <td>2</td>\n",
       "      <td>NaN</td>\n",
       "    </tr>\n",
       "    <tr>\n",
       "      <th>3</th>\n",
       "      <td>379.7348</td>\n",
       "      <td>46331.0</td>\n",
       "      <td>left</td>\n",
       "      <td>2</td>\n",
       "      <td>-70.25227</td>\n",
       "      <td>160.8049</td>\n",
       "      <td>-13.16562</td>\n",
       "      <td>-120.68820</td>\n",
       "      <td>248.41160</td>\n",
       "      <td>68.05241</td>\n",
       "      <td>...</td>\n",
       "      <td>120.8761</td>\n",
       "      <td>35.246690</td>\n",
       "      <td>-156.5777</td>\n",
       "      <td>-96.99940</td>\n",
       "      <td>113.46690</td>\n",
       "      <td>0.0</td>\n",
       "      <td>1.191082</td>\n",
       "      <td>0.539377</td>\n",
       "      <td>2</td>\n",
       "      <td>NaN</td>\n",
       "    </tr>\n",
       "    <tr>\n",
       "      <th>4</th>\n",
       "      <td>379.7516</td>\n",
       "      <td>46333.0</td>\n",
       "      <td>right</td>\n",
       "      <td>2</td>\n",
       "      <td>172.33350</td>\n",
       "      <td>241.7933</td>\n",
       "      <td>-25.97062</td>\n",
       "      <td>-51.04300</td>\n",
       "      <td>195.62840</td>\n",
       "      <td>287.99430</td>\n",
       "      <td>...</td>\n",
       "      <td>196.8314</td>\n",
       "      <td>9.881967</td>\n",
       "      <td>359.0114</td>\n",
       "      <td>31.43021</td>\n",
       "      <td>95.73518</td>\n",
       "      <td>0.0</td>\n",
       "      <td>0.232197</td>\n",
       "      <td>0.000000</td>\n",
       "      <td>2</td>\n",
       "      <td>NaN</td>\n",
       "    </tr>\n",
       "  </tbody>\n",
       "</table>\n",
       "<p>5 rows × 24 columns</p>\n",
       "</div>"
      ]
     },
     "metadata": {},
     "execution_count": 47
    }
   ],
   "metadata": {}
  },
  {
   "cell_type": "code",
   "execution_count": 55,
   "source": [
    "x_train = df.drop('OUTCOME',axis=1).to_numpy()\n",
    "y_train = df['OUTCOME']\n",
    "x_test = df_test.drop('OUTCOME',axis=1).to_numpy()\n",
    "y_test = df_test['OUTCOME']\n"
   ],
   "outputs": [],
   "metadata": {}
  },
  {
   "cell_type": "code",
   "execution_count": 56,
   "source": [
    "from xgboost import XGBClassifier\n",
    "\n",
    "xgb = XGBClassifier(enable_categorical=True)\n",
    "xgb.fit(x_train,y_train)\n",
    "xgb.score(x_test,y_test)"
   ],
   "outputs": [
    {
     "output_type": "error",
     "ename": "ValueError",
     "evalue": "could not convert string to float: 'right'",
     "traceback": [
      "\u001b[0;31m---------------------------------------------------------------------------\u001b[0m",
      "\u001b[0;31mValueError\u001b[0m                                Traceback (most recent call last)",
      "\u001b[0;32m<ipython-input-56-f5b3a9ba148c>\u001b[0m in \u001b[0;36m<module>\u001b[0;34m\u001b[0m\n\u001b[1;32m      2\u001b[0m \u001b[0;34m\u001b[0m\u001b[0m\n\u001b[1;32m      3\u001b[0m \u001b[0mxgb\u001b[0m \u001b[0;34m=\u001b[0m \u001b[0mXGBClassifier\u001b[0m\u001b[0;34m(\u001b[0m\u001b[0menable_categorical\u001b[0m\u001b[0;34m=\u001b[0m\u001b[0;32mTrue\u001b[0m\u001b[0;34m)\u001b[0m\u001b[0;34m\u001b[0m\u001b[0;34m\u001b[0m\u001b[0m\n\u001b[0;32m----> 4\u001b[0;31m \u001b[0mxgb\u001b[0m\u001b[0;34m.\u001b[0m\u001b[0mfit\u001b[0m\u001b[0;34m(\u001b[0m\u001b[0mx_train\u001b[0m\u001b[0;34m,\u001b[0m\u001b[0my_train\u001b[0m\u001b[0;34m)\u001b[0m\u001b[0;34m\u001b[0m\u001b[0;34m\u001b[0m\u001b[0m\n\u001b[0m\u001b[1;32m      5\u001b[0m \u001b[0mxgb\u001b[0m\u001b[0;34m.\u001b[0m\u001b[0mscore\u001b[0m\u001b[0;34m(\u001b[0m\u001b[0mx_test\u001b[0m\u001b[0;34m,\u001b[0m\u001b[0my_test\u001b[0m\u001b[0;34m)\u001b[0m\u001b[0;34m\u001b[0m\u001b[0;34m\u001b[0m\u001b[0m\n",
      "\u001b[0;32m~/.local/lib/python3.8/site-packages/xgboost/core.py\u001b[0m in \u001b[0;36minner_f\u001b[0;34m(*args, **kwargs)\u001b[0m\n\u001b[1;32m    434\u001b[0m         \u001b[0;32mfor\u001b[0m \u001b[0mk\u001b[0m\u001b[0;34m,\u001b[0m \u001b[0marg\u001b[0m \u001b[0;32min\u001b[0m \u001b[0mzip\u001b[0m\u001b[0;34m(\u001b[0m\u001b[0msig\u001b[0m\u001b[0;34m.\u001b[0m\u001b[0mparameters\u001b[0m\u001b[0;34m,\u001b[0m \u001b[0margs\u001b[0m\u001b[0;34m)\u001b[0m\u001b[0;34m:\u001b[0m\u001b[0;34m\u001b[0m\u001b[0;34m\u001b[0m\u001b[0m\n\u001b[1;32m    435\u001b[0m             \u001b[0mkwargs\u001b[0m\u001b[0;34m[\u001b[0m\u001b[0mk\u001b[0m\u001b[0;34m]\u001b[0m \u001b[0;34m=\u001b[0m \u001b[0marg\u001b[0m\u001b[0;34m\u001b[0m\u001b[0;34m\u001b[0m\u001b[0m\n\u001b[0;32m--> 436\u001b[0;31m         \u001b[0;32mreturn\u001b[0m \u001b[0mf\u001b[0m\u001b[0;34m(\u001b[0m\u001b[0;34m**\u001b[0m\u001b[0mkwargs\u001b[0m\u001b[0;34m)\u001b[0m\u001b[0;34m\u001b[0m\u001b[0;34m\u001b[0m\u001b[0m\n\u001b[0m\u001b[1;32m    437\u001b[0m \u001b[0;34m\u001b[0m\u001b[0m\n\u001b[1;32m    438\u001b[0m     \u001b[0;32mreturn\u001b[0m \u001b[0minner_f\u001b[0m\u001b[0;34m\u001b[0m\u001b[0;34m\u001b[0m\u001b[0m\n",
      "\u001b[0;32m~/.local/lib/python3.8/site-packages/xgboost/sklearn.py\u001b[0m in \u001b[0;36mfit\u001b[0;34m(self, X, y, sample_weight, base_margin, eval_set, eval_metric, early_stopping_rounds, verbose, xgb_model, sample_weight_eval_set, base_margin_eval_set, feature_weights, callbacks)\u001b[0m\n\u001b[1;32m   1156\u001b[0m             \u001b[0;32mraise\u001b[0m \u001b[0mValueError\u001b[0m\u001b[0;34m(\u001b[0m\u001b[0;34m\"Please reshape the input data X into 2-dimensional matrix.\"\u001b[0m\u001b[0;34m)\u001b[0m\u001b[0;34m\u001b[0m\u001b[0;34m\u001b[0m\u001b[0m\n\u001b[1;32m   1157\u001b[0m \u001b[0;34m\u001b[0m\u001b[0m\n\u001b[0;32m-> 1158\u001b[0;31m         train_dmatrix, evals = _wrap_evaluation_matrices(\n\u001b[0m\u001b[1;32m   1159\u001b[0m             \u001b[0mmissing\u001b[0m\u001b[0;34m=\u001b[0m\u001b[0mself\u001b[0m\u001b[0;34m.\u001b[0m\u001b[0mmissing\u001b[0m\u001b[0;34m,\u001b[0m\u001b[0;34m\u001b[0m\u001b[0;34m\u001b[0m\u001b[0m\n\u001b[1;32m   1160\u001b[0m             \u001b[0mX\u001b[0m\u001b[0;34m=\u001b[0m\u001b[0mX\u001b[0m\u001b[0;34m,\u001b[0m\u001b[0;34m\u001b[0m\u001b[0;34m\u001b[0m\u001b[0m\n",
      "\u001b[0;32m~/.local/lib/python3.8/site-packages/xgboost/sklearn.py\u001b[0m in \u001b[0;36m_wrap_evaluation_matrices\u001b[0;34m(missing, X, y, group, qid, sample_weight, base_margin, feature_weights, eval_set, sample_weight_eval_set, base_margin_eval_set, eval_group, eval_qid, create_dmatrix, label_transform)\u001b[0m\n\u001b[1;32m    234\u001b[0m \u001b[0;34m\u001b[0m\u001b[0m\n\u001b[1;32m    235\u001b[0m     \"\"\"\n\u001b[0;32m--> 236\u001b[0;31m     train_dmatrix = create_dmatrix(\n\u001b[0m\u001b[1;32m    237\u001b[0m         \u001b[0mdata\u001b[0m\u001b[0;34m=\u001b[0m\u001b[0mX\u001b[0m\u001b[0;34m,\u001b[0m\u001b[0;34m\u001b[0m\u001b[0;34m\u001b[0m\u001b[0m\n\u001b[1;32m    238\u001b[0m         \u001b[0mlabel\u001b[0m\u001b[0;34m=\u001b[0m\u001b[0mlabel_transform\u001b[0m\u001b[0;34m(\u001b[0m\u001b[0my\u001b[0m\u001b[0;34m)\u001b[0m\u001b[0;34m,\u001b[0m\u001b[0;34m\u001b[0m\u001b[0;34m\u001b[0m\u001b[0m\n",
      "\u001b[0;32m~/.local/lib/python3.8/site-packages/xgboost/sklearn.py\u001b[0m in \u001b[0;36m<lambda>\u001b[0;34m(**kwargs)\u001b[0m\n\u001b[1;32m   1170\u001b[0m             \u001b[0meval_group\u001b[0m\u001b[0;34m=\u001b[0m\u001b[0;32mNone\u001b[0m\u001b[0;34m,\u001b[0m\u001b[0;34m\u001b[0m\u001b[0;34m\u001b[0m\u001b[0m\n\u001b[1;32m   1171\u001b[0m             \u001b[0meval_qid\u001b[0m\u001b[0;34m=\u001b[0m\u001b[0;32mNone\u001b[0m\u001b[0;34m,\u001b[0m\u001b[0;34m\u001b[0m\u001b[0;34m\u001b[0m\u001b[0m\n\u001b[0;32m-> 1172\u001b[0;31m             \u001b[0mcreate_dmatrix\u001b[0m\u001b[0;34m=\u001b[0m\u001b[0;32mlambda\u001b[0m \u001b[0;34m**\u001b[0m\u001b[0mkwargs\u001b[0m\u001b[0;34m:\u001b[0m \u001b[0mDMatrix\u001b[0m\u001b[0;34m(\u001b[0m\u001b[0mnthread\u001b[0m\u001b[0;34m=\u001b[0m\u001b[0mself\u001b[0m\u001b[0;34m.\u001b[0m\u001b[0mn_jobs\u001b[0m\u001b[0;34m,\u001b[0m \u001b[0;34m**\u001b[0m\u001b[0mkwargs\u001b[0m\u001b[0;34m)\u001b[0m\u001b[0;34m,\u001b[0m\u001b[0;34m\u001b[0m\u001b[0;34m\u001b[0m\u001b[0m\n\u001b[0m\u001b[1;32m   1173\u001b[0m             \u001b[0mlabel_transform\u001b[0m\u001b[0;34m=\u001b[0m\u001b[0mlabel_transform\u001b[0m\u001b[0;34m,\u001b[0m\u001b[0;34m\u001b[0m\u001b[0;34m\u001b[0m\u001b[0m\n\u001b[1;32m   1174\u001b[0m         )\n",
      "\u001b[0;32m~/.local/lib/python3.8/site-packages/xgboost/core.py\u001b[0m in \u001b[0;36minner_f\u001b[0;34m(*args, **kwargs)\u001b[0m\n\u001b[1;32m    434\u001b[0m         \u001b[0;32mfor\u001b[0m \u001b[0mk\u001b[0m\u001b[0;34m,\u001b[0m \u001b[0marg\u001b[0m \u001b[0;32min\u001b[0m \u001b[0mzip\u001b[0m\u001b[0;34m(\u001b[0m\u001b[0msig\u001b[0m\u001b[0;34m.\u001b[0m\u001b[0mparameters\u001b[0m\u001b[0;34m,\u001b[0m \u001b[0margs\u001b[0m\u001b[0;34m)\u001b[0m\u001b[0;34m:\u001b[0m\u001b[0;34m\u001b[0m\u001b[0;34m\u001b[0m\u001b[0m\n\u001b[1;32m    435\u001b[0m             \u001b[0mkwargs\u001b[0m\u001b[0;34m[\u001b[0m\u001b[0mk\u001b[0m\u001b[0;34m]\u001b[0m \u001b[0;34m=\u001b[0m \u001b[0marg\u001b[0m\u001b[0;34m\u001b[0m\u001b[0;34m\u001b[0m\u001b[0m\n\u001b[0;32m--> 436\u001b[0;31m         \u001b[0;32mreturn\u001b[0m \u001b[0mf\u001b[0m\u001b[0;34m(\u001b[0m\u001b[0;34m**\u001b[0m\u001b[0mkwargs\u001b[0m\u001b[0;34m)\u001b[0m\u001b[0;34m\u001b[0m\u001b[0;34m\u001b[0m\u001b[0m\n\u001b[0m\u001b[1;32m    437\u001b[0m \u001b[0;34m\u001b[0m\u001b[0m\n\u001b[1;32m    438\u001b[0m     \u001b[0;32mreturn\u001b[0m \u001b[0minner_f\u001b[0m\u001b[0;34m\u001b[0m\u001b[0;34m\u001b[0m\u001b[0m\n",
      "\u001b[0;32m~/.local/lib/python3.8/site-packages/xgboost/core.py\u001b[0m in \u001b[0;36m__init__\u001b[0;34m(self, data, label, weight, base_margin, missing, silent, feature_names, feature_types, nthread, group, qid, label_lower_bound, label_upper_bound, feature_weights, enable_categorical)\u001b[0m\n\u001b[1;32m    539\u001b[0m         \u001b[0;32mfrom\u001b[0m \u001b[0;34m.\u001b[0m\u001b[0mdata\u001b[0m \u001b[0;32mimport\u001b[0m \u001b[0mdispatch_data_backend\u001b[0m\u001b[0;34m\u001b[0m\u001b[0;34m\u001b[0m\u001b[0m\n\u001b[1;32m    540\u001b[0m \u001b[0;34m\u001b[0m\u001b[0m\n\u001b[0;32m--> 541\u001b[0;31m         handle, feature_names, feature_types = dispatch_data_backend(\n\u001b[0m\u001b[1;32m    542\u001b[0m             \u001b[0mdata\u001b[0m\u001b[0;34m,\u001b[0m\u001b[0;34m\u001b[0m\u001b[0;34m\u001b[0m\u001b[0m\n\u001b[1;32m    543\u001b[0m             \u001b[0mmissing\u001b[0m\u001b[0;34m=\u001b[0m\u001b[0mself\u001b[0m\u001b[0;34m.\u001b[0m\u001b[0mmissing\u001b[0m\u001b[0;34m,\u001b[0m\u001b[0;34m\u001b[0m\u001b[0;34m\u001b[0m\u001b[0m\n",
      "\u001b[0;32m~/.local/lib/python3.8/site-packages/xgboost/data.py\u001b[0m in \u001b[0;36mdispatch_data_backend\u001b[0;34m(data, missing, threads, feature_names, feature_types, enable_categorical)\u001b[0m\n\u001b[1;32m    562\u001b[0m         \u001b[0;32mreturn\u001b[0m \u001b[0m_from_scipy_csr\u001b[0m\u001b[0;34m(\u001b[0m\u001b[0mdata\u001b[0m\u001b[0;34m.\u001b[0m\u001b[0mtocsr\u001b[0m\u001b[0;34m(\u001b[0m\u001b[0;34m)\u001b[0m\u001b[0;34m,\u001b[0m \u001b[0mmissing\u001b[0m\u001b[0;34m,\u001b[0m \u001b[0mthreads\u001b[0m\u001b[0;34m,\u001b[0m \u001b[0mfeature_names\u001b[0m\u001b[0;34m,\u001b[0m \u001b[0mfeature_types\u001b[0m\u001b[0;34m)\u001b[0m\u001b[0;34m\u001b[0m\u001b[0;34m\u001b[0m\u001b[0m\n\u001b[1;32m    563\u001b[0m     \u001b[0;32mif\u001b[0m \u001b[0m_is_numpy_array\u001b[0m\u001b[0;34m(\u001b[0m\u001b[0mdata\u001b[0m\u001b[0;34m)\u001b[0m\u001b[0;34m:\u001b[0m\u001b[0;34m\u001b[0m\u001b[0;34m\u001b[0m\u001b[0m\n\u001b[0;32m--> 564\u001b[0;31m         return _from_numpy_array(data, missing, threads, feature_names,\n\u001b[0m\u001b[1;32m    565\u001b[0m                                  feature_types)\n\u001b[1;32m    566\u001b[0m     \u001b[0;32mif\u001b[0m \u001b[0m_is_uri\u001b[0m\u001b[0;34m(\u001b[0m\u001b[0mdata\u001b[0m\u001b[0;34m)\u001b[0m\u001b[0;34m:\u001b[0m\u001b[0;34m\u001b[0m\u001b[0;34m\u001b[0m\u001b[0m\n",
      "\u001b[0;32m~/.local/lib/python3.8/site-packages/xgboost/data.py\u001b[0m in \u001b[0;36m_from_numpy_array\u001b[0;34m(data, missing, nthread, feature_names, feature_types)\u001b[0m\n\u001b[1;32m    159\u001b[0m \u001b[0;34m\u001b[0m\u001b[0m\n\u001b[1;32m    160\u001b[0m     \"\"\"\n\u001b[0;32m--> 161\u001b[0;31m     \u001b[0mflatten\u001b[0m\u001b[0;34m:\u001b[0m \u001b[0mnp\u001b[0m\u001b[0;34m.\u001b[0m\u001b[0mndarray\u001b[0m \u001b[0;34m=\u001b[0m \u001b[0m_transform_np_array\u001b[0m\u001b[0;34m(\u001b[0m\u001b[0mdata\u001b[0m\u001b[0;34m)\u001b[0m\u001b[0;34m\u001b[0m\u001b[0;34m\u001b[0m\u001b[0m\n\u001b[0m\u001b[1;32m    162\u001b[0m     \u001b[0mhandle\u001b[0m \u001b[0;34m=\u001b[0m \u001b[0mctypes\u001b[0m\u001b[0;34m.\u001b[0m\u001b[0mc_void_p\u001b[0m\u001b[0;34m(\u001b[0m\u001b[0;34m)\u001b[0m\u001b[0;34m\u001b[0m\u001b[0;34m\u001b[0m\u001b[0m\n\u001b[1;32m    163\u001b[0m     _check_call(_LIB.XGDMatrixCreateFromMat_omp(\n",
      "\u001b[0;32m~/.local/lib/python3.8/site-packages/xgboost/data.py\u001b[0m in \u001b[0;36m_transform_np_array\u001b[0;34m(data)\u001b[0m\n\u001b[1;32m    139\u001b[0m     \u001b[0;31m# data copies if possible (reshape returns a view when possible and we\u001b[0m\u001b[0;34m\u001b[0m\u001b[0;34m\u001b[0m\u001b[0;34m\u001b[0m\u001b[0m\n\u001b[1;32m    140\u001b[0m     \u001b[0;31m# explicitly tell np.array to try and avoid copying)\u001b[0m\u001b[0;34m\u001b[0m\u001b[0;34m\u001b[0m\u001b[0;34m\u001b[0m\u001b[0m\n\u001b[0;32m--> 141\u001b[0;31m     flatten = np.array(data.reshape(data.size), copy=False,\n\u001b[0m\u001b[1;32m    142\u001b[0m                        dtype=np.float32)\n\u001b[1;32m    143\u001b[0m     \u001b[0mflatten\u001b[0m \u001b[0;34m=\u001b[0m \u001b[0m_maybe_np_slice\u001b[0m\u001b[0;34m(\u001b[0m\u001b[0mflatten\u001b[0m\u001b[0;34m,\u001b[0m \u001b[0mnp\u001b[0m\u001b[0;34m.\u001b[0m\u001b[0mfloat32\u001b[0m\u001b[0;34m)\u001b[0m\u001b[0;34m\u001b[0m\u001b[0;34m\u001b[0m\u001b[0m\n",
      "\u001b[0;31mValueError\u001b[0m: could not convert string to float: 'right'"
     ]
    }
   ],
   "metadata": {}
  },
  {
   "cell_type": "code",
   "execution_count": null,
   "source": [],
   "outputs": [],
   "metadata": {}
  }
 ],
 "metadata": {
  "orig_nbformat": 4,
  "language_info": {
   "name": "python",
   "version": "3.8.8",
   "mimetype": "text/x-python",
   "codemirror_mode": {
    "name": "ipython",
    "version": 3
   },
   "pygments_lexer": "ipython3",
   "nbconvert_exporter": "python",
   "file_extension": ".py"
  },
  "kernelspec": {
   "name": "python3",
   "display_name": "Python 3.8.8 64-bit ('base': conda)"
  },
  "interpreter": {
   "hash": "f50bd5474255f82aa829301912ce59e29110123be660cf8d7583f66a20371684"
  }
 },
 "nbformat": 4,
 "nbformat_minor": 2
}